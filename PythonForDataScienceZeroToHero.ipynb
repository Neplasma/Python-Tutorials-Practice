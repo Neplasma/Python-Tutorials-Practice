{
 "cells": [
  {
   "cell_type": "markdown",
   "id": "7c399a09",
   "metadata": {},
   "source": [
    "# Hello World! "
   ]
  },
  {
   "cell_type": "markdown",
   "id": "bf38d226",
   "metadata": {},
   "source": [
    "This is my first program using jupyter notebook!"
   ]
  },
  {
   "cell_type": "code",
   "execution_count": 1,
   "id": "6a99de50",
   "metadata": {},
   "outputs": [
    {
     "name": "stdout",
     "output_type": "stream",
     "text": [
      "Hello World!\n"
     ]
    }
   ],
   "source": [
    "print('Hello World!')"
   ]
  },
  {
   "cell_type": "code",
   "execution_count": 2,
   "id": "c10cd69f",
   "metadata": {},
   "outputs": [
    {
     "name": "stdout",
     "output_type": "stream",
     "text": [
      "Hello World!\n"
     ]
    }
   ],
   "source": [
    "print(\"Hello World!\")"
   ]
  },
  {
   "cell_type": "markdown",
   "id": "f1448309",
   "metadata": {},
   "source": [
    "$a+b=42$"
   ]
  },
  {
   "cell_type": "markdown",
   "id": "387bf538",
   "metadata": {},
   "source": [
    "using $ to use lattic to express math equation"
   ]
  },
  {
   "cell_type": "code",
   "execution_count": 3,
   "id": "3760c9cc",
   "metadata": {},
   "outputs": [
    {
     "data": {
      "text/plain": [
       "9"
      ]
     },
     "execution_count": 3,
     "metadata": {},
     "output_type": "execute_result"
    }
   ],
   "source": [
    "4+5"
   ]
  },
  {
   "cell_type": "code",
   "execution_count": 4,
   "id": "eb4437e8",
   "metadata": {},
   "outputs": [
    {
     "data": {
      "text/plain": [
       "86"
      ]
     },
     "execution_count": 4,
     "metadata": {},
     "output_type": "execute_result"
    }
   ],
   "source": [
    "85^3"
   ]
  },
  {
   "cell_type": "code",
   "execution_count": 5,
   "id": "7f96e969",
   "metadata": {},
   "outputs": [
    {
     "data": {
      "text/plain": [
       "258"
      ]
     },
     "execution_count": 5,
     "metadata": {},
     "output_type": "execute_result"
    }
   ],
   "source": [
    "86*3"
   ]
  },
  {
   "cell_type": "markdown",
   "id": "092c931f",
   "metadata": {},
   "source": [
    "# Variables"
   ]
  },
  {
   "cell_type": "code",
   "execution_count": 6,
   "id": "f57435f7",
   "metadata": {},
   "outputs": [],
   "source": [
    "x = 3"
   ]
  },
  {
   "cell_type": "code",
   "execution_count": 10,
   "id": "9842c4c5",
   "metadata": {},
   "outputs": [
    {
     "name": "stdout",
     "output_type": "stream",
     "text": [
      "Variable   Type    Data/Info\n",
      "----------------------------\n",
      "x          int     3\n"
     ]
    }
   ],
   "source": [
    "%whos\n",
    "#this tells you the memories used in the program"
   ]
  },
  {
   "cell_type": "code",
   "execution_count": 11,
   "id": "2f9f55c3",
   "metadata": {},
   "outputs": [
    {
     "name": "stdout",
     "output_type": "stream",
     "text": [
      "<class 'int'>\n"
     ]
    }
   ],
   "source": [
    "print(type(x))"
   ]
  },
  {
   "cell_type": "code",
   "execution_count": 12,
   "id": "ef14751d",
   "metadata": {},
   "outputs": [],
   "source": [
    "x=6.66"
   ]
  },
  {
   "cell_type": "code",
   "execution_count": 13,
   "id": "05e04c5b",
   "metadata": {},
   "outputs": [
    {
     "name": "stdout",
     "output_type": "stream",
     "text": [
      "Variable   Type     Data/Info\n",
      "-----------------------------\n",
      "x          float    6.66\n"
     ]
    }
   ],
   "source": [
    "%whos"
   ]
  },
  {
   "cell_type": "code",
   "execution_count": 14,
   "id": "f535163e",
   "metadata": {},
   "outputs": [
    {
     "name": "stdout",
     "output_type": "stream",
     "text": [
      "<class 'float'>\n"
     ]
    }
   ],
   "source": [
    "print(type(x))"
   ]
  },
  {
   "cell_type": "code",
   "execution_count": 15,
   "id": "480f8517",
   "metadata": {},
   "outputs": [],
   "source": [
    "y=5"
   ]
  },
  {
   "cell_type": "code",
   "execution_count": 16,
   "id": "df16e3c1",
   "metadata": {},
   "outputs": [],
   "source": [
    "z=x*y"
   ]
  },
  {
   "cell_type": "code",
   "execution_count": 17,
   "id": "509c602b",
   "metadata": {},
   "outputs": [
    {
     "name": "stdout",
     "output_type": "stream",
     "text": [
      "Variable   Type     Data/Info\n",
      "-----------------------------\n",
      "x          float    6.66\n",
      "y          int      5\n",
      "z          float    33.3\n"
     ]
    }
   ],
   "source": [
    "%whos"
   ]
  },
  {
   "cell_type": "code",
   "execution_count": 18,
   "id": "76837aa0",
   "metadata": {},
   "outputs": [],
   "source": [
    "a,b,c,d = 1,0.5,-3,4.0"
   ]
  },
  {
   "cell_type": "code",
   "execution_count": 19,
   "id": "97e8267a",
   "metadata": {},
   "outputs": [
    {
     "name": "stdout",
     "output_type": "stream",
     "text": [
      "Variable   Type     Data/Info\n",
      "-----------------------------\n",
      "a          int      1\n",
      "b          float    0.5\n",
      "c          int      -3\n",
      "d          float    4.0\n",
      "x          float    6.66\n",
      "y          int      5\n",
      "z          float    33.3\n"
     ]
    }
   ],
   "source": [
    "%whos"
   ]
  },
  {
   "cell_type": "code",
   "execution_count": 20,
   "id": "47b887f0",
   "metadata": {},
   "outputs": [],
   "source": [
    "del b"
   ]
  },
  {
   "cell_type": "code",
   "execution_count": 21,
   "id": "8d2059aa",
   "metadata": {},
   "outputs": [
    {
     "ename": "NameError",
     "evalue": "name 'b' is not defined",
     "output_type": "error",
     "traceback": [
      "\u001b[0;31m---------------------------------------------------------------------------\u001b[0m",
      "\u001b[0;31mNameError\u001b[0m                                 Traceback (most recent call last)",
      "\u001b[0;32m<ipython-input-21-3e0dcc6c2e77>\u001b[0m in \u001b[0;36m<module>\u001b[0;34m\u001b[0m\n\u001b[0;32m----> 1\u001b[0;31m \u001b[0mprint\u001b[0m\u001b[0;34m(\u001b[0m\u001b[0ma\u001b[0m\u001b[0;34m,\u001b[0m\u001b[0mb\u001b[0m\u001b[0;34m,\u001b[0m\u001b[0mc\u001b[0m\u001b[0;34m,\u001b[0m\u001b[0md\u001b[0m\u001b[0;34m)\u001b[0m\u001b[0;34m\u001b[0m\u001b[0;34m\u001b[0m\u001b[0m\n\u001b[0m",
      "\u001b[0;31mNameError\u001b[0m: name 'b' is not defined"
     ]
    }
   ],
   "source": [
    "print(a,b,c,d)"
   ]
  },
  {
   "cell_type": "code",
   "execution_count": 22,
   "id": "235003cf",
   "metadata": {},
   "outputs": [
    {
     "name": "stdout",
     "output_type": "stream",
     "text": [
      "1 -3 4.0\n"
     ]
    }
   ],
   "source": [
    "print(a,c,d)"
   ]
  },
  {
   "cell_type": "code",
   "execution_count": 23,
   "id": "33f4ad26",
   "metadata": {},
   "outputs": [],
   "source": [
    "a=2+4j"
   ]
  },
  {
   "cell_type": "code",
   "execution_count": 24,
   "id": "5591ad56",
   "metadata": {},
   "outputs": [],
   "source": [
    "b=3-5j"
   ]
  },
  {
   "cell_type": "code",
   "execution_count": 25,
   "id": "12a93498",
   "metadata": {},
   "outputs": [],
   "source": [
    "c=a+b"
   ]
  },
  {
   "cell_type": "code",
   "execution_count": 26,
   "id": "d3566f5e",
   "metadata": {},
   "outputs": [
    {
     "data": {
      "text/plain": [
       "(5-1j)"
      ]
     },
     "execution_count": 26,
     "metadata": {},
     "output_type": "execute_result"
    }
   ],
   "source": [
    "c"
   ]
  },
  {
   "cell_type": "code",
   "execution_count": 27,
   "id": "daf8c3a2",
   "metadata": {},
   "outputs": [
    {
     "data": {
      "text/plain": [
       "complex"
      ]
     },
     "execution_count": 27,
     "metadata": {},
     "output_type": "execute_result"
    }
   ],
   "source": [
    "type(c)"
   ]
  },
  {
   "cell_type": "code",
   "execution_count": 28,
   "id": "d262ce3c",
   "metadata": {},
   "outputs": [],
   "source": [
    "d='Hello World!'"
   ]
  },
  {
   "cell_type": "code",
   "execution_count": 29,
   "id": "afa917f5",
   "metadata": {},
   "outputs": [
    {
     "data": {
      "text/plain": [
       "str"
      ]
     },
     "execution_count": 29,
     "metadata": {},
     "output_type": "execute_result"
    }
   ],
   "source": [
    "type(d)"
   ]
  },
  {
   "cell_type": "markdown",
   "id": "eddbe202",
   "metadata": {},
   "source": [
    "# Operators"
   ]
  },
  {
   "cell_type": "code",
   "execution_count": 30,
   "id": "c599fc67",
   "metadata": {},
   "outputs": [
    {
     "data": {
      "text/plain": [
       "4"
      ]
     },
     "execution_count": 30,
     "metadata": {},
     "output_type": "execute_result"
    }
   ],
   "source": [
    "1+3 #addition"
   ]
  },
  {
   "cell_type": "code",
   "execution_count": 31,
   "id": "1a8b79f3",
   "metadata": {},
   "outputs": [
    {
     "data": {
      "text/plain": [
       "1"
      ]
     },
     "execution_count": 31,
     "metadata": {},
     "output_type": "execute_result"
    }
   ],
   "source": [
    "3-2 #substraction"
   ]
  },
  {
   "cell_type": "code",
   "execution_count": 32,
   "id": "e8d6ef64",
   "metadata": {},
   "outputs": [
    {
     "data": {
      "text/plain": [
       "3.0"
      ]
     },
     "execution_count": 32,
     "metadata": {},
     "output_type": "execute_result"
    }
   ],
   "source": [
    "9/3 #division"
   ]
  },
  {
   "cell_type": "code",
   "execution_count": 33,
   "id": "5aac0098",
   "metadata": {},
   "outputs": [
    {
     "data": {
      "text/plain": [
       "9"
      ]
     },
     "execution_count": 33,
     "metadata": {},
     "output_type": "execute_result"
    }
   ],
   "source": [
    "3*3 #multiplication"
   ]
  },
  {
   "cell_type": "code",
   "execution_count": 34,
   "id": "247e5702",
   "metadata": {},
   "outputs": [
    {
     "data": {
      "text/plain": [
       "1"
      ]
     },
     "execution_count": 34,
     "metadata": {},
     "output_type": "execute_result"
    }
   ],
   "source": [
    "10%3 #reminder"
   ]
  },
  {
   "cell_type": "code",
   "execution_count": 35,
   "id": "8d35ec8c",
   "metadata": {},
   "outputs": [
    {
     "data": {
      "text/plain": [
       "3"
      ]
     },
     "execution_count": 35,
     "metadata": {},
     "output_type": "execute_result"
    }
   ],
   "source": [
    "10//3 #floor division"
   ]
  },
  {
   "cell_type": "code",
   "execution_count": 36,
   "id": "08654a91",
   "metadata": {},
   "outputs": [
    {
     "data": {
      "text/plain": [
       "16"
      ]
     },
     "execution_count": 36,
     "metadata": {},
     "output_type": "execute_result"
    }
   ],
   "source": [
    "4**2 # to the power of "
   ]
  },
  {
   "cell_type": "code",
   "execution_count": 37,
   "id": "750e0f0a",
   "metadata": {},
   "outputs": [
    {
     "data": {
      "text/plain": [
       "16"
      ]
     },
     "execution_count": 37,
     "metadata": {},
     "output_type": "execute_result"
    }
   ],
   "source": [
    "_ #underscore contains the last results that has been stored in a variable"
   ]
  },
  {
   "cell_type": "markdown",
   "id": "37976ef6",
   "metadata": {},
   "source": [
    "# Bool Type"
   ]
  },
  {
   "cell_type": "code",
   "execution_count": 38,
   "id": "df15ce6e",
   "metadata": {},
   "outputs": [
    {
     "data": {
      "text/plain": [
       "True"
      ]
     },
     "execution_count": 38,
     "metadata": {},
     "output_type": "execute_result"
    }
   ],
   "source": [
    "1 == 1"
   ]
  },
  {
   "cell_type": "code",
   "execution_count": 39,
   "id": "00c2ca9d",
   "metadata": {},
   "outputs": [
    {
     "data": {
      "text/plain": [
       "True"
      ]
     },
     "execution_count": 39,
     "metadata": {},
     "output_type": "execute_result"
    }
   ],
   "source": [
    "2 >= 1"
   ]
  },
  {
   "cell_type": "code",
   "execution_count": 40,
   "id": "e61fe403",
   "metadata": {},
   "outputs": [
    {
     "data": {
      "text/plain": [
       "False"
      ]
     },
     "execution_count": 40,
     "metadata": {},
     "output_type": "execute_result"
    }
   ],
   "source": [
    "2 > 3"
   ]
  },
  {
   "cell_type": "code",
   "execution_count": 41,
   "id": "34e1bf8c",
   "metadata": {},
   "outputs": [
    {
     "data": {
      "text/plain": [
       "True"
      ]
     },
     "execution_count": 41,
     "metadata": {},
     "output_type": "execute_result"
    }
   ],
   "source": [
    "4 != 6"
   ]
  },
  {
   "cell_type": "code",
   "execution_count": 42,
   "id": "1494936d",
   "metadata": {},
   "outputs": [
    {
     "data": {
      "text/plain": [
       "bool"
      ]
     },
     "execution_count": 42,
     "metadata": {},
     "output_type": "execute_result"
    }
   ],
   "source": [
    "type(True)"
   ]
  },
  {
   "cell_type": "code",
   "execution_count": 43,
   "id": "914d2342",
   "metadata": {},
   "outputs": [
    {
     "data": {
      "text/plain": [
       "bool"
      ]
     },
     "execution_count": 43,
     "metadata": {},
     "output_type": "execute_result"
    }
   ],
   "source": [
    "type(False)"
   ]
  },
  {
   "cell_type": "code",
   "execution_count": 1,
   "id": "1b46c0ed",
   "metadata": {},
   "outputs": [],
   "source": [
    "a=True\n",
    "b=True\n",
    "c=False"
   ]
  },
  {
   "cell_type": "code",
   "execution_count": 2,
   "id": "36c695d6",
   "metadata": {},
   "outputs": [
    {
     "name": "stdout",
     "output_type": "stream",
     "text": [
      "Variable   Type    Data/Info\n",
      "----------------------------\n",
      "a          bool    True\n",
      "b          bool    True\n",
      "c          bool    False\n"
     ]
    }
   ],
   "source": [
    "%whos"
   ]
  },
  {
   "cell_type": "code",
   "execution_count": 3,
   "id": "34831bcc",
   "metadata": {},
   "outputs": [
    {
     "data": {
      "text/plain": [
       "False"
      ]
     },
     "execution_count": 3,
     "metadata": {},
     "output_type": "execute_result"
    }
   ],
   "source": [
    "a and b\n",
    "a and c\n",
    "b and c"
   ]
  },
  {
   "cell_type": "code",
   "execution_count": 4,
   "id": "2c427d48",
   "metadata": {},
   "outputs": [
    {
     "name": "stdout",
     "output_type": "stream",
     "text": [
      "True\n",
      "False\n"
     ]
    },
    {
     "ename": "NameError",
     "evalue": "name 'Print' is not defined",
     "output_type": "error",
     "traceback": [
      "\u001b[0;31m---------------------------------------------------------------------------\u001b[0m",
      "\u001b[0;31mNameError\u001b[0m                                 Traceback (most recent call last)",
      "\u001b[0;32m<ipython-input-4-08d4ca33db4a>\u001b[0m in \u001b[0;36m<module>\u001b[0;34m\u001b[0m\n\u001b[1;32m      1\u001b[0m \u001b[0mprint\u001b[0m\u001b[0;34m(\u001b[0m\u001b[0ma\u001b[0m \u001b[0;32mand\u001b[0m \u001b[0mb\u001b[0m\u001b[0;34m)\u001b[0m\u001b[0;34m\u001b[0m\u001b[0;34m\u001b[0m\u001b[0m\n\u001b[1;32m      2\u001b[0m \u001b[0mprint\u001b[0m\u001b[0;34m(\u001b[0m\u001b[0ma\u001b[0m \u001b[0;32mand\u001b[0m \u001b[0mc\u001b[0m\u001b[0;34m)\u001b[0m\u001b[0;34m\u001b[0m\u001b[0;34m\u001b[0m\u001b[0m\n\u001b[0;32m----> 3\u001b[0;31m \u001b[0mPrint\u001b[0m\u001b[0;34m(\u001b[0m\u001b[0mb\u001b[0m \u001b[0;32mand\u001b[0m \u001b[0mc\u001b[0m\u001b[0;34m)\u001b[0m\u001b[0;34m\u001b[0m\u001b[0;34m\u001b[0m\u001b[0m\n\u001b[0m",
      "\u001b[0;31mNameError\u001b[0m: name 'Print' is not defined"
     ]
    }
   ],
   "source": [
    "print(a and b)\n",
    "print(a and c)\n",
    "Print(b and c)"
   ]
  },
  {
   "cell_type": "code",
   "execution_count": 5,
   "id": "784953e7",
   "metadata": {},
   "outputs": [
    {
     "name": "stdout",
     "output_type": "stream",
     "text": [
      "True\n",
      "False\n",
      "False\n"
     ]
    }
   ],
   "source": [
    "print(a and b)\n",
    "print(a and c)\n",
    "print(b and c)"
   ]
  },
  {
   "cell_type": "code",
   "execution_count": 6,
   "id": "6ac775e9",
   "metadata": {},
   "outputs": [
    {
     "name": "stdout",
     "output_type": "stream",
     "text": [
      "True\n",
      "True\n",
      "True\n"
     ]
    }
   ],
   "source": [
    "print(a or b)\n",
    "print(a or c)\n",
    "print(c or b)"
   ]
  },
  {
   "cell_type": "code",
   "execution_count": 7,
   "id": "29314385",
   "metadata": {},
   "outputs": [
    {
     "data": {
      "text/plain": [
       "False"
      ]
     },
     "execution_count": 7,
     "metadata": {},
     "output_type": "execute_result"
    }
   ],
   "source": [
    "not(a)"
   ]
  },
  {
   "cell_type": "code",
   "execution_count": 8,
   "id": "4108fd4c",
   "metadata": {},
   "outputs": [
    {
     "data": {
      "text/plain": [
       "True"
      ]
     },
     "execution_count": 8,
     "metadata": {},
     "output_type": "execute_result"
    }
   ],
   "source": [
    "not(c)"
   ]
  },
  {
   "cell_type": "code",
   "execution_count": 9,
   "id": "a4ed66d1",
   "metadata": {},
   "outputs": [
    {
     "data": {
      "text/plain": [
       "False"
      ]
     },
     "execution_count": 9,
     "metadata": {},
     "output_type": "execute_result"
    }
   ],
   "source": [
    "not(a and b)"
   ]
  },
  {
   "cell_type": "code",
   "execution_count": 10,
   "id": "856e5298",
   "metadata": {},
   "outputs": [
    {
     "name": "stdout",
     "output_type": "stream",
     "text": [
      "False\n"
     ]
    }
   ],
   "source": [
    "print((not(2!=3) and True) or (True and False) )"
   ]
  },
  {
   "cell_type": "code",
   "execution_count": 11,
   "id": "4cbb940d",
   "metadata": {},
   "outputs": [
    {
     "data": {
      "text/plain": [
       "(5, 2)"
      ]
     },
     "execution_count": 11,
     "metadata": {},
     "output_type": "execute_result"
    }
   ],
   "source": [
    "divmod(27,5)"
   ]
  },
  {
   "cell_type": "markdown",
   "id": "0c216a6c",
   "metadata": {},
   "source": [
    "# Some Useful Functions"
   ]
  },
  {
   "cell_type": "code",
   "execution_count": 12,
   "id": "cb0de5da",
   "metadata": {},
   "outputs": [
    {
     "data": {
      "text/plain": [
       "4"
      ]
     },
     "execution_count": 12,
     "metadata": {},
     "output_type": "execute_result"
    }
   ],
   "source": [
    "round(4.5)"
   ]
  },
  {
   "cell_type": "code",
   "execution_count": 13,
   "id": "099b4d5c",
   "metadata": {},
   "outputs": [
    {
     "data": {
      "text/plain": [
       "5"
      ]
     },
     "execution_count": 13,
     "metadata": {},
     "output_type": "execute_result"
    }
   ],
   "source": [
    "round(4.51)"
   ]
  },
  {
   "cell_type": "code",
   "execution_count": 14,
   "id": "92297a96",
   "metadata": {},
   "outputs": [
    {
     "data": {
      "text/plain": [
       "4.556"
      ]
     },
     "execution_count": 14,
     "metadata": {},
     "output_type": "execute_result"
    }
   ],
   "source": [
    "round(4.55555,3)"
   ]
  },
  {
   "cell_type": "code",
   "execution_count": 15,
   "id": "8cc12d6b",
   "metadata": {},
   "outputs": [
    {
     "data": {
      "text/plain": [
       "(5, 2)"
      ]
     },
     "execution_count": 15,
     "metadata": {},
     "output_type": "execute_result"
    }
   ],
   "source": [
    "divmod(27,5)"
   ]
  },
  {
   "cell_type": "code",
   "execution_count": 16,
   "id": "7c971bba",
   "metadata": {},
   "outputs": [
    {
     "data": {
      "text/plain": [
       "(7, 0)"
      ]
     },
     "execution_count": 16,
     "metadata": {},
     "output_type": "execute_result"
    }
   ],
   "source": [
    "divmod(28,4)"
   ]
  },
  {
   "cell_type": "code",
   "execution_count": 17,
   "id": "f40258e8",
   "metadata": {},
   "outputs": [
    {
     "data": {
      "text/plain": [
       "tuple"
      ]
     },
     "execution_count": 17,
     "metadata": {},
     "output_type": "execute_result"
    }
   ],
   "source": [
    "type(divmod(28,4))"
   ]
  },
  {
   "cell_type": "code",
   "execution_count": 18,
   "id": "f0d23c61",
   "metadata": {},
   "outputs": [],
   "source": [
    "g = divmod(15,4)"
   ]
  },
  {
   "cell_type": "code",
   "execution_count": 19,
   "id": "0735b653",
   "metadata": {},
   "outputs": [
    {
     "data": {
      "text/plain": [
       "3"
      ]
     },
     "execution_count": 19,
     "metadata": {},
     "output_type": "execute_result"
    }
   ],
   "source": [
    "g[0]"
   ]
  },
  {
   "cell_type": "code",
   "execution_count": 20,
   "id": "ae55965f",
   "metadata": {},
   "outputs": [
    {
     "data": {
      "text/plain": [
       "3"
      ]
     },
     "execution_count": 20,
     "metadata": {},
     "output_type": "execute_result"
    }
   ],
   "source": [
    "g[1]"
   ]
  },
  {
   "cell_type": "code",
   "execution_count": 21,
   "id": "11b343d8",
   "metadata": {},
   "outputs": [
    {
     "name": "stdout",
     "output_type": "stream",
     "text": [
      "True\n"
     ]
    }
   ],
   "source": [
    "print(isinstance(1,int))"
   ]
  },
  {
   "cell_type": "code",
   "execution_count": 22,
   "id": "d129311f",
   "metadata": {},
   "outputs": [
    {
     "name": "stdout",
     "output_type": "stream",
     "text": [
      "False\n"
     ]
    }
   ],
   "source": [
    "print(isinstance(1.0,int))"
   ]
  },
  {
   "cell_type": "code",
   "execution_count": 23,
   "id": "ce08f853",
   "metadata": {},
   "outputs": [
    {
     "ename": "SyntaxError",
     "evalue": "unexpected EOF while parsing (<ipython-input-23-da91f0096613>, line 1)",
     "output_type": "error",
     "traceback": [
      "\u001b[0;36m  File \u001b[0;32m\"<ipython-input-23-da91f0096613>\"\u001b[0;36m, line \u001b[0;32m1\u001b[0m\n\u001b[0;31m    print(isinstance(1.0,(int,float))\u001b[0m\n\u001b[0m                                     ^\u001b[0m\n\u001b[0;31mSyntaxError\u001b[0m\u001b[0;31m:\u001b[0m unexpected EOF while parsing\n"
     ]
    }
   ],
   "source": [
    "print(isinstance(1.0,(int,float))"
   ]
  },
  {
   "cell_type": "code",
   "execution_count": 24,
   "id": "88f1e8f4",
   "metadata": {},
   "outputs": [
    {
     "name": "stdout",
     "output_type": "stream",
     "text": [
      "True\n"
     ]
    }
   ],
   "source": [
    "print(isinstance(1.0,(int,float)))"
   ]
  },
  {
   "cell_type": "code",
   "execution_count": 25,
   "id": "0d2739e9",
   "metadata": {},
   "outputs": [
    {
     "data": {
      "text/plain": [
       "9"
      ]
     },
     "execution_count": 25,
     "metadata": {},
     "output_type": "execute_result"
    }
   ],
   "source": [
    "pow(3,2)"
   ]
  },
  {
   "cell_type": "code",
   "execution_count": 26,
   "id": "9126e50a",
   "metadata": {},
   "outputs": [
    {
     "data": {
      "text/plain": [
       "1"
      ]
     },
     "execution_count": 26,
     "metadata": {},
     "output_type": "execute_result"
    }
   ],
   "source": [
    "pow(3,2,2) #equals 3^2%2"
   ]
  },
  {
   "cell_type": "code",
   "execution_count": 27,
   "id": "d1bf2532",
   "metadata": {},
   "outputs": [
    {
     "name": "stdout",
     "output_type": "stream",
     "text": [
      "Please enter an integar: 5\n"
     ]
    }
   ],
   "source": [
    "a = int(input('Please enter an integar: '))"
   ]
  },
  {
   "cell_type": "code",
   "execution_count": 28,
   "id": "43cd30d2",
   "metadata": {},
   "outputs": [
    {
     "data": {
      "text/plain": [
       "int"
      ]
     },
     "execution_count": 28,
     "metadata": {},
     "output_type": "execute_result"
    }
   ],
   "source": [
    "type(a)"
   ]
  },
  {
   "cell_type": "code",
   "execution_count": 29,
   "id": "9ffb9e09",
   "metadata": {},
   "outputs": [
    {
     "name": "stdout",
     "output_type": "stream",
     "text": [
      "Please enter an integar: 6\n"
     ]
    }
   ],
   "source": [
    "b = input('Please enter an integar: ')"
   ]
  },
  {
   "cell_type": "code",
   "execution_count": 30,
   "id": "aa0187c4",
   "metadata": {},
   "outputs": [
    {
     "data": {
      "text/plain": [
       "str"
      ]
     },
     "execution_count": 30,
     "metadata": {},
     "output_type": "execute_result"
    }
   ],
   "source": [
    "type(b)"
   ]
  },
  {
   "cell_type": "code",
   "execution_count": 31,
   "id": "e984238d",
   "metadata": {},
   "outputs": [],
   "source": [
    "print? # add a ? after a func will display how to use it "
   ]
  },
  {
   "cell_type": "code",
   "execution_count": 32,
   "id": "5d16954c",
   "metadata": {},
   "outputs": [
    {
     "name": "stdout",
     "output_type": "stream",
     "text": [
      "Help on built-in function print in module builtins:\n",
      "\n",
      "print(...)\n",
      "    print(value, ..., sep=' ', end='\\n', file=sys.stdout, flush=False)\n",
      "    \n",
      "    Prints the values to a stream, or to sys.stdout by default.\n",
      "    Optional keyword arguments:\n",
      "    file:  a file-like object (stream); defaults to the current sys.stdout.\n",
      "    sep:   string inserted between values, default a space.\n",
      "    end:   string appended after the last value, default a newline.\n",
      "    flush: whether to forcibly flush the stream.\n",
      "\n"
     ]
    }
   ],
   "source": [
    "help(print)"
   ]
  },
  {
   "cell_type": "markdown",
   "id": "11ab9d49",
   "metadata": {},
   "source": [
    "# Functions"
   ]
  },
  {
   "cell_type": "code",
   "execution_count": 1,
   "id": "54616eba",
   "metadata": {},
   "outputs": [
    {
     "ename": "SyntaxError",
     "evalue": "invalid syntax (<ipython-input-1-acc3c41c773b>, line 1)",
     "output_type": "error",
     "traceback": [
      "\u001b[0;36m  File \u001b[0;32m\"<ipython-input-1-acc3c41c773b>\"\u001b[0;36m, line \u001b[0;32m1\u001b[0m\n\u001b[0;31m    def sampleFunc(a=0)\u001b[0m\n\u001b[0m                       ^\u001b[0m\n\u001b[0;31mSyntaxError\u001b[0m\u001b[0;31m:\u001b[0m invalid syntax\n"
     ]
    }
   ],
   "source": [
    "def sampleFunc(a=0)\n",
    "    return a"
   ]
  },
  {
   "cell_type": "code",
   "execution_count": 14,
   "id": "e7bab9b2",
   "metadata": {},
   "outputs": [],
   "source": [
    "def sampleFunc(a=0): # sets a default \n",
    "    return a"
   ]
  },
  {
   "cell_type": "code",
   "execution_count": 15,
   "id": "00e1d6a9",
   "metadata": {},
   "outputs": [
    {
     "data": {
      "text/plain": [
       "0"
      ]
     },
     "execution_count": 15,
     "metadata": {},
     "output_type": "execute_result"
    }
   ],
   "source": [
    "sampleFunc()"
   ]
  },
  {
   "cell_type": "code",
   "execution_count": 16,
   "id": "104b19cc",
   "metadata": {},
   "outputs": [
    {
     "data": {
      "text/plain": [
       "1"
      ]
     },
     "execution_count": 16,
     "metadata": {},
     "output_type": "execute_result"
    }
   ],
   "source": [
    "sampleFunc(1)"
   ]
  },
  {
   "cell_type": "code",
   "execution_count": 5,
   "id": "95d5876d",
   "metadata": {},
   "outputs": [],
   "source": [
    "def sampleFunc2(*a): # this allows multiple inputs\n",
    "    sum = 0\n",
    "    for i in range(len(a)):\n",
    "        sum += a[i]\n",
    "    return sum"
   ]
  },
  {
   "cell_type": "code",
   "execution_count": 6,
   "id": "05426361",
   "metadata": {},
   "outputs": [
    {
     "data": {
      "text/plain": [
       "9"
      ]
     },
     "execution_count": 6,
     "metadata": {},
     "output_type": "execute_result"
    }
   ],
   "source": [
    "sampleFunc2(2,3,4)"
   ]
  },
  {
   "cell_type": "code",
   "execution_count": 7,
   "id": "c30546df",
   "metadata": {},
   "outputs": [
    {
     "data": {
      "text/plain": [
       "27"
      ]
     },
     "execution_count": 7,
     "metadata": {},
     "output_type": "execute_result"
    }
   ],
   "source": [
    "sampleFunc2(2,3,4,5,6,7)"
   ]
  },
  {
   "cell_type": "code",
   "execution_count": 9,
   "id": "d7d312bd",
   "metadata": {},
   "outputs": [
    {
     "data": {
      "text/plain": [
       "8"
      ]
     },
     "execution_count": 9,
     "metadata": {},
     "output_type": "execute_result"
    }
   ],
   "source": [
    "sampleFunc2(8)"
   ]
  },
  {
   "cell_type": "code",
   "execution_count": 8,
   "id": "7a294006",
   "metadata": {},
   "outputs": [
    {
     "data": {
      "text/plain": [
       "9.7"
      ]
     },
     "execution_count": 8,
     "metadata": {},
     "output_type": "execute_result"
    }
   ],
   "source": [
    "sampleFunc2(2,3.7,4.0)"
   ]
  },
  {
   "cell_type": "code",
   "execution_count": 12,
   "id": "9ca05dbc",
   "metadata": {},
   "outputs": [],
   "source": [
    "def printVV(**a): #this allows to print all the keys and values\n",
    "    for i in a:\n",
    "        print('Variable is ',i,', and the value is ',a[i])\n"
   ]
  },
  {
   "cell_type": "code",
   "execution_count": 13,
   "id": "039e0467",
   "metadata": {},
   "outputs": [
    {
     "name": "stdout",
     "output_type": "stream",
     "text": [
      "Variable is  a , and the value is  4\n",
      "Variable is  b , and the value is  N\n",
      "Variable is  c , and the value is  4.6\n",
      "Variable is  d , and the value is  (2+3j)\n"
     ]
    }
   ],
   "source": [
    "printVV(a=4,b='N',c=4.6,d=2+3j)"
   ]
  },
  {
   "cell_type": "code",
   "execution_count": 17,
   "id": "03831bb8",
   "metadata": {},
   "outputs": [],
   "source": [
    "def printList(L=[1,2,3]):\n",
    "    print(L)"
   ]
  },
  {
   "cell_type": "code",
   "execution_count": 18,
   "id": "b28ffc10",
   "metadata": {},
   "outputs": [
    {
     "name": "stdout",
     "output_type": "stream",
     "text": [
      "[1, 2, 3]\n"
     ]
    }
   ],
   "source": [
    "printList()"
   ]
  },
  {
   "cell_type": "code",
   "execution_count": 19,
   "id": "4f5141bd",
   "metadata": {},
   "outputs": [
    {
     "name": "stdout",
     "output_type": "stream",
     "text": [
      "[0, 9, 4, 6, -12]\n"
     ]
    }
   ],
   "source": [
    "L2=[0,9,4,6,-12]\n",
    "printList(L2)"
   ]
  },
  {
   "cell_type": "code",
   "execution_count": 20,
   "id": "79c23073",
   "metadata": {},
   "outputs": [
    {
     "ename": "TypeError",
     "evalue": "printList() got an unexpected keyword argument 'L3'",
     "output_type": "error",
     "traceback": [
      "\u001b[0;31m---------------------------------------------------------------------------\u001b[0m",
      "\u001b[0;31mTypeError\u001b[0m                                 Traceback (most recent call last)",
      "\u001b[0;32m<ipython-input-20-2a235c097bf1>\u001b[0m in \u001b[0;36m<module>\u001b[0;34m\u001b[0m\n\u001b[0;32m----> 1\u001b[0;31m \u001b[0mprintList\u001b[0m\u001b[0;34m(\u001b[0m\u001b[0mL3\u001b[0m\u001b[0;34m=\u001b[0m\u001b[0;34m[\u001b[0m\u001b[0;36m4\u001b[0m\u001b[0;34m,\u001b[0m\u001b[0;36m5\u001b[0m\u001b[0;34m,\u001b[0m\u001b[0;36m6\u001b[0m\u001b[0;34m]\u001b[0m\u001b[0;34m)\u001b[0m\u001b[0;34m\u001b[0m\u001b[0;34m\u001b[0m\u001b[0m\n\u001b[0m",
      "\u001b[0;31mTypeError\u001b[0m: printList() got an unexpected keyword argument 'L3'"
     ]
    }
   ],
   "source": [
    "printList(L3=[4,5,6])"
   ]
  },
  {
   "cell_type": "code",
   "execution_count": 21,
   "id": "dd9166c7",
   "metadata": {},
   "outputs": [
    {
     "name": "stdout",
     "output_type": "stream",
     "text": [
      "[4, 5, 6]\n"
     ]
    }
   ],
   "source": [
    "printList(L=[4,5,6])"
   ]
  },
  {
   "cell_type": "code",
   "execution_count": 22,
   "id": "8ada9c6b",
   "metadata": {
    "scrolled": true
   },
   "outputs": [
    {
     "name": "stdout",
     "output_type": "stream",
     "text": [
      "[1, 2, 3]\n",
      "Help on NoneType object:\n",
      "\n",
      "class NoneType(object)\n",
      " |  Methods defined here:\n",
      " |  \n",
      " |  __bool__(self, /)\n",
      " |      self != 0\n",
      " |  \n",
      " |  __repr__(self, /)\n",
      " |      Return repr(self).\n",
      " |  \n",
      " |  ----------------------------------------------------------------------\n",
      " |  Static methods defined here:\n",
      " |  \n",
      " |  __new__(*args, **kwargs) from builtins.type\n",
      " |      Create and return a new object.  See help(type) for accurate signature.\n",
      "\n"
     ]
    }
   ],
   "source": [
    "help(printList())"
   ]
  },
  {
   "cell_type": "markdown",
   "id": "09ea75a4",
   "metadata": {},
   "source": [
    "# Modules"
   ]
  },
  {
   "cell_type": "code",
   "execution_count": 1,
   "id": "7f830641",
   "metadata": {},
   "outputs": [],
   "source": [
    "import sys\n",
    "sys.path.append('/Users/yuanni/Documents/Python/myModules/')\n",
    "# add Modules folder to the path"
   ]
  },
  {
   "cell_type": "code",
   "execution_count": 2,
   "id": "a1e57387",
   "metadata": {},
   "outputs": [],
   "source": [
    "import MyUniversalFunctions as myfs\n",
    "#import modules and name them"
   ]
  },
  {
   "cell_type": "code",
   "execution_count": 3,
   "id": "1ef6694a",
   "metadata": {},
   "outputs": [],
   "source": [
    "myfs.addAllNumerics?"
   ]
  },
  {
   "cell_type": "code",
   "execution_count": 4,
   "id": "f8e9e9a0",
   "metadata": {},
   "outputs": [
    {
     "data": {
      "text/plain": [
       "25"
      ]
     },
     "execution_count": 4,
     "metadata": {},
     "output_type": "execute_result"
    }
   ],
   "source": [
    "myfs.addAllNumerics(1,3,5,7,9)"
   ]
  },
  {
   "cell_type": "code",
   "execution_count": 5,
   "id": "6c6ad527",
   "metadata": {},
   "outputs": [
    {
     "name": "stdout",
     "output_type": "stream",
     "text": [
      "Help on function addAllNumerics in module MyUniversalFunctions:\n",
      "\n",
      "addAllNumerics(*args)\n",
      "\n"
     ]
    }
   ],
   "source": [
    "help(myfs.addAllNumerics)"
   ]
  },
  {
   "cell_type": "code",
   "execution_count": 6,
   "id": "92d3e985",
   "metadata": {},
   "outputs": [],
   "source": [
    "from MyUniversalFunctions import addAllNumerics"
   ]
  },
  {
   "cell_type": "code",
   "execution_count": 7,
   "id": "b2124e35",
   "metadata": {},
   "outputs": [
    {
     "data": {
      "text/plain": [
       "23"
      ]
     },
     "execution_count": 7,
     "metadata": {},
     "output_type": "execute_result"
    }
   ],
   "source": [
    "addAllNumerics(2,3,4,6,8)"
   ]
  },
  {
   "cell_type": "code",
   "execution_count": 8,
   "id": "a44d73e4",
   "metadata": {},
   "outputs": [],
   "source": [
    "def swapValues(L,idx1,idx2):\n",
    "    tmp = L[idx1]\n",
    "    L[idx1] = L[idx2]\n",
    "    L[idx2] = tmp\n",
    "    return L"
   ]
  },
  {
   "cell_type": "code",
   "execution_count": 9,
   "id": "a4f92878",
   "metadata": {},
   "outputs": [],
   "source": [
    "L = [2,3,6,7]"
   ]
  },
  {
   "cell_type": "code",
   "execution_count": 10,
   "id": "2bed8b9b",
   "metadata": {},
   "outputs": [],
   "source": [
    "L2 = swapValues(L,1,3)"
   ]
  },
  {
   "cell_type": "code",
   "execution_count": 11,
   "id": "15f80a8f",
   "metadata": {},
   "outputs": [
    {
     "name": "stdout",
     "output_type": "stream",
     "text": [
      "[2, 7, 6, 3]\n"
     ]
    }
   ],
   "source": [
    "print(L2)"
   ]
  },
  {
   "cell_type": "code",
   "execution_count": 14,
   "id": "8dff6756",
   "metadata": {},
   "outputs": [
    {
     "data": {
      "text/plain": [
       "[2, 3, 6, 7]"
      ]
     },
     "execution_count": 14,
     "metadata": {},
     "output_type": "execute_result"
    }
   ],
   "source": [
    "myfs.sortList(L)"
   ]
  },
  {
   "cell_type": "code",
   "execution_count": 15,
   "id": "97948bd6",
   "metadata": {
    "scrolled": true
   },
   "outputs": [
    {
     "name": "stdout",
     "output_type": "stream",
     "text": [
      "Help on function sortList in module MyUniversalFunctions:\n",
      "\n",
      "sortList(L)\n",
      "\n"
     ]
    }
   ],
   "source": [
    "help(myfs.sortList)"
   ]
  },
  {
   "cell_type": "code",
   "execution_count": 16,
   "id": "e418c895",
   "metadata": {},
   "outputs": [],
   "source": [
    "a = 'string'"
   ]
  },
  {
   "cell_type": "code",
   "execution_count": 21,
   "id": "f242bd53",
   "metadata": {},
   "outputs": [],
   "source": [
    "b=a.capitalize()"
   ]
  },
  {
   "cell_type": "code",
   "execution_count": 23,
   "id": "8c22c1e7",
   "metadata": {},
   "outputs": [
    {
     "data": {
      "text/plain": [
       "'String'"
      ]
     },
     "execution_count": 23,
     "metadata": {},
     "output_type": "execute_result"
    }
   ],
   "source": [
    "b"
   ]
  },
  {
   "cell_type": "code",
   "execution_count": 24,
   "id": "0c92c098",
   "metadata": {},
   "outputs": [],
   "source": [
    "c=a.replace('i','3')"
   ]
  },
  {
   "cell_type": "code",
   "execution_count": 25,
   "id": "423531bb",
   "metadata": {},
   "outputs": [
    {
     "data": {
      "text/plain": [
       "'str3ng'"
      ]
     },
     "execution_count": 25,
     "metadata": {},
     "output_type": "execute_result"
    }
   ],
   "source": [
    "c"
   ]
  },
  {
   "cell_type": "markdown",
   "id": "206e03f9",
   "metadata": {},
   "source": [
    "# Data Structure"
   ]
  },
  {
   "cell_type": "code",
   "execution_count": 2,
   "id": "bc8b547f",
   "metadata": {},
   "outputs": [
    {
     "name": "stdout",
     "output_type": "stream",
     "text": [
      "Requirement already satisfied: jupyterthemes in ./opt/anaconda3/lib/python3.8/site-packages (0.20.0)\n",
      "Requirement already satisfied: jupyter-core in ./opt/anaconda3/lib/python3.8/site-packages (from jupyterthemes) (4.7.1)\n",
      "Requirement already satisfied: lesscpy>=0.11.2 in ./opt/anaconda3/lib/python3.8/site-packages (from jupyterthemes) (0.15.0)\n",
      "Requirement already satisfied: matplotlib>=1.4.3 in ./opt/anaconda3/lib/python3.8/site-packages (from jupyterthemes) (3.3.4)\n",
      "Requirement already satisfied: ipython>=5.4.1 in ./opt/anaconda3/lib/python3.8/site-packages (from jupyterthemes) (7.22.0)\n",
      "Requirement already satisfied: notebook>=5.6.0 in ./opt/anaconda3/lib/python3.8/site-packages (from jupyterthemes) (6.3.0)\n",
      "Requirement already satisfied: pickleshare in ./opt/anaconda3/lib/python3.8/site-packages (from ipython>=5.4.1->jupyterthemes) (0.7.5)\n",
      "Requirement already satisfied: jedi>=0.16 in ./opt/anaconda3/lib/python3.8/site-packages (from ipython>=5.4.1->jupyterthemes) (0.17.2)\n",
      "Requirement already satisfied: setuptools>=18.5 in ./opt/anaconda3/lib/python3.8/site-packages (from ipython>=5.4.1->jupyterthemes) (52.0.0.post20210125)\n",
      "Requirement already satisfied: pexpect>4.3 in ./opt/anaconda3/lib/python3.8/site-packages (from ipython>=5.4.1->jupyterthemes) (4.8.0)\n",
      "Requirement already satisfied: pygments in ./opt/anaconda3/lib/python3.8/site-packages (from ipython>=5.4.1->jupyterthemes) (2.8.1)\n",
      "Requirement already satisfied: backcall in ./opt/anaconda3/lib/python3.8/site-packages (from ipython>=5.4.1->jupyterthemes) (0.2.0)\n",
      "Requirement already satisfied: appnope in ./opt/anaconda3/lib/python3.8/site-packages (from ipython>=5.4.1->jupyterthemes) (0.1.2)\n",
      "Requirement already satisfied: traitlets>=4.2 in ./opt/anaconda3/lib/python3.8/site-packages (from ipython>=5.4.1->jupyterthemes) (5.0.5)\n",
      "Requirement already satisfied: prompt-toolkit!=3.0.0,!=3.0.1,<3.1.0,>=2.0.0 in ./opt/anaconda3/lib/python3.8/site-packages (from ipython>=5.4.1->jupyterthemes) (3.0.17)\n",
      "Requirement already satisfied: decorator in ./opt/anaconda3/lib/python3.8/site-packages (from ipython>=5.4.1->jupyterthemes) (5.0.6)\n",
      "Requirement already satisfied: parso<0.8.0,>=0.7.0 in ./opt/anaconda3/lib/python3.8/site-packages (from jedi>=0.16->ipython>=5.4.1->jupyterthemes) (0.7.0)\n",
      "Requirement already satisfied: six in ./opt/anaconda3/lib/python3.8/site-packages (from lesscpy>=0.11.2->jupyterthemes) (1.15.0)\n",
      "Requirement already satisfied: ply in ./opt/anaconda3/lib/python3.8/site-packages (from lesscpy>=0.11.2->jupyterthemes) (3.11)\n",
      "Requirement already satisfied: pyparsing!=2.0.4,!=2.1.2,!=2.1.6,>=2.0.3 in ./opt/anaconda3/lib/python3.8/site-packages (from matplotlib>=1.4.3->jupyterthemes) (2.4.7)\n",
      "Requirement already satisfied: pillow>=6.2.0 in ./opt/anaconda3/lib/python3.8/site-packages (from matplotlib>=1.4.3->jupyterthemes) (8.2.0)\n",
      "Requirement already satisfied: python-dateutil>=2.1 in ./opt/anaconda3/lib/python3.8/site-packages (from matplotlib>=1.4.3->jupyterthemes) (2.8.1)\n",
      "Requirement already satisfied: numpy>=1.15 in ./opt/anaconda3/lib/python3.8/site-packages (from matplotlib>=1.4.3->jupyterthemes) (1.20.1)\n",
      "Requirement already satisfied: cycler>=0.10 in ./opt/anaconda3/lib/python3.8/site-packages (from matplotlib>=1.4.3->jupyterthemes) (0.10.0)\n",
      "Requirement already satisfied: kiwisolver>=1.0.1 in ./opt/anaconda3/lib/python3.8/site-packages (from matplotlib>=1.4.3->jupyterthemes) (1.3.1)\n",
      "Requirement already satisfied: ipython-genutils in ./opt/anaconda3/lib/python3.8/site-packages (from notebook>=5.6.0->jupyterthemes) (0.2.0)\n",
      "Requirement already satisfied: ipykernel in ./opt/anaconda3/lib/python3.8/site-packages (from notebook>=5.6.0->jupyterthemes) (5.3.4)\n",
      "Requirement already satisfied: terminado>=0.8.3 in ./opt/anaconda3/lib/python3.8/site-packages (from notebook>=5.6.0->jupyterthemes) (0.9.4)\n",
      "Requirement already satisfied: tornado>=6.1 in ./opt/anaconda3/lib/python3.8/site-packages (from notebook>=5.6.0->jupyterthemes) (6.1)\n",
      "Requirement already satisfied: jupyter-client>=5.3.4 in ./opt/anaconda3/lib/python3.8/site-packages (from notebook>=5.6.0->jupyterthemes) (6.1.12)\n",
      "Requirement already satisfied: nbconvert in ./opt/anaconda3/lib/python3.8/site-packages (from notebook>=5.6.0->jupyterthemes) (6.0.7)\n",
      "Requirement already satisfied: nbformat in ./opt/anaconda3/lib/python3.8/site-packages (from notebook>=5.6.0->jupyterthemes) (5.1.3)\n",
      "Requirement already satisfied: pyzmq>=17 in ./opt/anaconda3/lib/python3.8/site-packages (from notebook>=5.6.0->jupyterthemes) (20.0.0)\n",
      "Requirement already satisfied: prometheus-client in ./opt/anaconda3/lib/python3.8/site-packages (from notebook>=5.6.0->jupyterthemes) (0.10.1)\n",
      "Requirement already satisfied: argon2-cffi in ./opt/anaconda3/lib/python3.8/site-packages (from notebook>=5.6.0->jupyterthemes) (20.1.0)\n",
      "Requirement already satisfied: jinja2 in ./opt/anaconda3/lib/python3.8/site-packages (from notebook>=5.6.0->jupyterthemes) (2.11.3)\n",
      "Requirement already satisfied: Send2Trash>=1.5.0 in ./opt/anaconda3/lib/python3.8/site-packages (from notebook>=5.6.0->jupyterthemes) (1.5.0)\n",
      "Requirement already satisfied: ptyprocess>=0.5 in ./opt/anaconda3/lib/python3.8/site-packages (from pexpect>4.3->ipython>=5.4.1->jupyterthemes) (0.7.0)\n",
      "Requirement already satisfied: wcwidth in ./opt/anaconda3/lib/python3.8/site-packages (from prompt-toolkit!=3.0.0,!=3.0.1,<3.1.0,>=2.0.0->ipython>=5.4.1->jupyterthemes) (0.2.5)\n",
      "Requirement already satisfied: cffi>=1.0.0 in ./opt/anaconda3/lib/python3.8/site-packages (from argon2-cffi->notebook>=5.6.0->jupyterthemes) (1.14.5)\n",
      "Requirement already satisfied: pycparser in ./opt/anaconda3/lib/python3.8/site-packages (from cffi>=1.0.0->argon2-cffi->notebook>=5.6.0->jupyterthemes) (2.20)\n",
      "Requirement already satisfied: MarkupSafe>=0.23 in ./opt/anaconda3/lib/python3.8/site-packages (from jinja2->notebook>=5.6.0->jupyterthemes) (1.1.1)\n",
      "Requirement already satisfied: mistune<2,>=0.8.1 in ./opt/anaconda3/lib/python3.8/site-packages (from nbconvert->notebook>=5.6.0->jupyterthemes) (0.8.4)\n",
      "Requirement already satisfied: bleach in ./opt/anaconda3/lib/python3.8/site-packages (from nbconvert->notebook>=5.6.0->jupyterthemes) (3.3.0)\n",
      "Requirement already satisfied: pandocfilters>=1.4.1 in ./opt/anaconda3/lib/python3.8/site-packages (from nbconvert->notebook>=5.6.0->jupyterthemes) (1.4.3)\n",
      "Requirement already satisfied: nbclient<0.6.0,>=0.5.0 in ./opt/anaconda3/lib/python3.8/site-packages (from nbconvert->notebook>=5.6.0->jupyterthemes) (0.5.3)\n",
      "Requirement already satisfied: testpath in ./opt/anaconda3/lib/python3.8/site-packages (from nbconvert->notebook>=5.6.0->jupyterthemes) (0.4.4)\n",
      "Requirement already satisfied: jupyterlab-pygments in ./opt/anaconda3/lib/python3.8/site-packages (from nbconvert->notebook>=5.6.0->jupyterthemes) (0.1.2)\n",
      "Requirement already satisfied: entrypoints>=0.2.2 in ./opt/anaconda3/lib/python3.8/site-packages (from nbconvert->notebook>=5.6.0->jupyterthemes) (0.3)\n",
      "Requirement already satisfied: defusedxml in ./opt/anaconda3/lib/python3.8/site-packages (from nbconvert->notebook>=5.6.0->jupyterthemes) (0.7.1)\n",
      "Requirement already satisfied: async-generator in ./opt/anaconda3/lib/python3.8/site-packages (from nbclient<0.6.0,>=0.5.0->nbconvert->notebook>=5.6.0->jupyterthemes) (1.10)\n",
      "Requirement already satisfied: nest-asyncio in ./opt/anaconda3/lib/python3.8/site-packages (from nbclient<0.6.0,>=0.5.0->nbconvert->notebook>=5.6.0->jupyterthemes) (1.5.1)\n",
      "Requirement already satisfied: jsonschema!=2.5.0,>=2.4 in ./opt/anaconda3/lib/python3.8/site-packages (from nbformat->notebook>=5.6.0->jupyterthemes) (3.2.0)\n",
      "Requirement already satisfied: pyrsistent>=0.14.0 in ./opt/anaconda3/lib/python3.8/site-packages (from jsonschema!=2.5.0,>=2.4->nbformat->notebook>=5.6.0->jupyterthemes) (0.17.3)\n",
      "Requirement already satisfied: attrs>=17.4.0 in ./opt/anaconda3/lib/python3.8/site-packages (from jsonschema!=2.5.0,>=2.4->nbformat->notebook>=5.6.0->jupyterthemes) (20.3.0)\n",
      "Requirement already satisfied: packaging in ./opt/anaconda3/lib/python3.8/site-packages (from bleach->nbconvert->notebook>=5.6.0->jupyterthemes) (20.9)\n",
      "Requirement already satisfied: webencodings in ./opt/anaconda3/lib/python3.8/site-packages (from bleach->nbconvert->notebook>=5.6.0->jupyterthemes) (0.5.1)\n",
      "Note: you may need to restart the kernel to use updated packages.\n"
     ]
    }
   ],
   "source": [
    "pip install jupyterthemes"
   ]
  },
  {
   "cell_type": "code",
   "execution_count": 3,
   "id": "af8a2891",
   "metadata": {},
   "outputs": [
    {
     "ename": "NameError",
     "evalue": "name 'jt' is not defined",
     "output_type": "error",
     "traceback": [
      "\u001b[0;31m---------------------------------------------------------------------------\u001b[0m",
      "\u001b[0;31mNameError\u001b[0m                                 Traceback (most recent call last)",
      "\u001b[0;32m<ipython-input-3-77bb524fe3e4>\u001b[0m in \u001b[0;36m<module>\u001b[0;34m\u001b[0m\n\u001b[0;32m----> 1\u001b[0;31m \u001b[0mjt\u001b[0m \u001b[0;34m-\u001b[0m\u001b[0ml\u001b[0m\u001b[0;34m\u001b[0m\u001b[0;34m\u001b[0m\u001b[0m\n\u001b[0m",
      "\u001b[0;31mNameError\u001b[0m: name 'jt' is not defined"
     ]
    }
   ],
   "source": [
    "jt -l"
   ]
  },
  {
   "cell_type": "code",
   "execution_count": 1,
   "id": "9fde339d",
   "metadata": {},
   "outputs": [],
   "source": [
    "L = [1,3,5,7] # list\n",
    "T = (1,3,5,7) # tuple\n",
    "S = {1,3,5,7} # set\n",
    "D = {1:'one',3:'three',5:'five',7:'seven'} # dictionary"
   ]
  },
  {
   "cell_type": "code",
   "execution_count": 2,
   "id": "71d2f738",
   "metadata": {},
   "outputs": [
    {
     "name": "stdout",
     "output_type": "stream",
     "text": [
      "<class 'list'>\n",
      "<class 'tuple'>\n",
      "<class 'set'>\n",
      "<class 'dict'>\n"
     ]
    }
   ],
   "source": [
    "print(type(L))\n",
    "print(type(T))\n",
    "print(type(S))\n",
    "print(type(D))"
   ]
  },
  {
   "cell_type": "code",
   "execution_count": 3,
   "id": "0d84e7fe",
   "metadata": {},
   "outputs": [
    {
     "data": {
      "text/plain": [
       "3"
      ]
     },
     "execution_count": 3,
     "metadata": {},
     "output_type": "execute_result"
    }
   ],
   "source": [
    "L[1]"
   ]
  },
  {
   "cell_type": "code",
   "execution_count": 4,
   "id": "8765b11f",
   "metadata": {},
   "outputs": [
    {
     "ename": "TypeError",
     "evalue": "'tuple' object is not callable",
     "output_type": "error",
     "traceback": [
      "\u001b[0;31m---------------------------------------------------------------------------\u001b[0m",
      "\u001b[0;31mTypeError\u001b[0m                                 Traceback (most recent call last)",
      "\u001b[0;32m<ipython-input-4-04be72b98e92>\u001b[0m in \u001b[0;36m<module>\u001b[0;34m\u001b[0m\n\u001b[0;32m----> 1\u001b[0;31m \u001b[0mT\u001b[0m\u001b[0;34m(\u001b[0m\u001b[0;36m1\u001b[0m\u001b[0;34m)\u001b[0m\u001b[0;34m\u001b[0m\u001b[0;34m\u001b[0m\u001b[0m\n\u001b[0m",
      "\u001b[0;31mTypeError\u001b[0m: 'tuple' object is not callable"
     ]
    }
   ],
   "source": [
    "T(1)"
   ]
  },
  {
   "cell_type": "code",
   "execution_count": 5,
   "id": "d24773f2",
   "metadata": {},
   "outputs": [
    {
     "data": {
      "text/plain": [
       "3"
      ]
     },
     "execution_count": 5,
     "metadata": {},
     "output_type": "execute_result"
    }
   ],
   "source": [
    "T[1]"
   ]
  },
  {
   "cell_type": "code",
   "execution_count": 6,
   "id": "66408bc3",
   "metadata": {},
   "outputs": [
    {
     "name": "stdout",
     "output_type": "stream",
     "text": [
      "5\n",
      "5\n",
      "True\n",
      "five\n"
     ]
    }
   ],
   "source": [
    "print(L[2])\n",
    "print(T[2])\n",
    "print(5 in S)\n",
    "print(D[5])"
   ]
  },
  {
   "cell_type": "code",
   "execution_count": 7,
   "id": "2f16c857",
   "metadata": {},
   "outputs": [],
   "source": [
    "D1 = {2:'two',4:'four',6:'six',8:'eight'}"
   ]
  },
  {
   "cell_type": "code",
   "execution_count": 8,
   "id": "d517dfc4",
   "metadata": {},
   "outputs": [
    {
     "ename": "NameError",
     "evalue": "name 'D2' is not defined",
     "output_type": "error",
     "traceback": [
      "\u001b[0;31m---------------------------------------------------------------------------\u001b[0m",
      "\u001b[0;31mNameError\u001b[0m                                 Traceback (most recent call last)",
      "\u001b[0;32m<ipython-input-8-1d49554f22f8>\u001b[0m in \u001b[0;36m<module>\u001b[0;34m\u001b[0m\n\u001b[0;32m----> 1\u001b[0;31m \u001b[0mD2\u001b[0m \u001b[0;34m=\u001b[0m \u001b[0mD1\u001b[0m\u001b[0;34m+\u001b[0m\u001b[0mD2\u001b[0m\u001b[0;34m\u001b[0m\u001b[0;34m\u001b[0m\u001b[0m\n\u001b[0m",
      "\u001b[0;31mNameError\u001b[0m: name 'D2' is not defined"
     ]
    }
   ],
   "source": [
    "D2 = D1+D2"
   ]
  },
  {
   "cell_type": "code",
   "execution_count": 9,
   "id": "d3240c23",
   "metadata": {},
   "outputs": [],
   "source": [
    "D2 = D.update(D1)"
   ]
  },
  {
   "cell_type": "code",
   "execution_count": 10,
   "id": "b103bb7c",
   "metadata": {},
   "outputs": [],
   "source": [
    "D2"
   ]
  },
  {
   "cell_type": "code",
   "execution_count": 11,
   "id": "d23a5017",
   "metadata": {},
   "outputs": [
    {
     "data": {
      "text/plain": [
       "{1: 'one',\n",
       " 3: 'three',\n",
       " 5: 'five',\n",
       " 7: 'seven',\n",
       " 2: 'two',\n",
       " 4: 'four',\n",
       " 6: 'six',\n",
       " 8: 'eight'}"
      ]
     },
     "execution_count": 11,
     "metadata": {},
     "output_type": "execute_result"
    }
   ],
   "source": [
    "D"
   ]
  },
  {
   "cell_type": "code",
   "execution_count": 12,
   "id": "f1d35025",
   "metadata": {},
   "outputs": [
    {
     "ename": "AttributeError",
     "evalue": "'dict' object has no attribute 'sort'",
     "output_type": "error",
     "traceback": [
      "\u001b[0;31m---------------------------------------------------------------------------\u001b[0m",
      "\u001b[0;31mAttributeError\u001b[0m                            Traceback (most recent call last)",
      "\u001b[0;32m<ipython-input-12-4aa00a798c66>\u001b[0m in \u001b[0;36m<module>\u001b[0;34m\u001b[0m\n\u001b[0;32m----> 1\u001b[0;31m \u001b[0mD\u001b[0m\u001b[0;34m.\u001b[0m\u001b[0msort\u001b[0m\u001b[0;34m(\u001b[0m\u001b[0;34m)\u001b[0m\u001b[0;34m\u001b[0m\u001b[0;34m\u001b[0m\u001b[0m\n\u001b[0m",
      "\u001b[0;31mAttributeError\u001b[0m: 'dict' object has no attribute 'sort'"
     ]
    }
   ],
   "source": [
    "D.sort()"
   ]
  },
  {
   "cell_type": "code",
   "execution_count": 13,
   "id": "64c1f8b0",
   "metadata": {},
   "outputs": [
    {
     "data": {
      "text/plain": [
       "dict_keys([1, 3, 5, 7, 2, 4, 6, 8])"
      ]
     },
     "execution_count": 13,
     "metadata": {},
     "output_type": "execute_result"
    }
   ],
   "source": [
    "D.keys()"
   ]
  },
  {
   "cell_type": "code",
   "execution_count": 14,
   "id": "380c96f2",
   "metadata": {},
   "outputs": [
    {
     "data": {
      "text/plain": [
       "[1, 3, 5, 7]"
      ]
     },
     "execution_count": 14,
     "metadata": {},
     "output_type": "execute_result"
    }
   ],
   "source": [
    "L"
   ]
  },
  {
   "cell_type": "code",
   "execution_count": 15,
   "id": "abf52d5a",
   "metadata": {},
   "outputs": [],
   "source": [
    "L1 = L"
   ]
  },
  {
   "cell_type": "code",
   "execution_count": 16,
   "id": "7d47a133",
   "metadata": {},
   "outputs": [
    {
     "data": {
      "text/plain": [
       "[1, 3, 5, 7]"
      ]
     },
     "execution_count": 16,
     "metadata": {},
     "output_type": "execute_result"
    }
   ],
   "source": [
    "L1"
   ]
  },
  {
   "cell_type": "code",
   "execution_count": 17,
   "id": "64d230a4",
   "metadata": {},
   "outputs": [],
   "source": [
    "L1[1]=4"
   ]
  },
  {
   "cell_type": "code",
   "execution_count": 18,
   "id": "0f82cac5",
   "metadata": {},
   "outputs": [
    {
     "data": {
      "text/plain": [
       "[1, 4, 5, 7]"
      ]
     },
     "execution_count": 18,
     "metadata": {},
     "output_type": "execute_result"
    }
   ],
   "source": [
    "L1 # L and L1 reference to the same memory"
   ]
  },
  {
   "cell_type": "code",
   "execution_count": 19,
   "id": "3f8af59d",
   "metadata": {},
   "outputs": [
    {
     "data": {
      "text/plain": [
       "[1, 4, 5, 7]"
      ]
     },
     "execution_count": 19,
     "metadata": {},
     "output_type": "execute_result"
    }
   ],
   "source": [
    "L"
   ]
  },
  {
   "cell_type": "code",
   "execution_count": 20,
   "id": "9beb9c4d",
   "metadata": {},
   "outputs": [],
   "source": [
    "L2 = L.copy() \n",
    "# L2 and L reference to different memory using .copy()"
   ]
  },
  {
   "cell_type": "code",
   "execution_count": 21,
   "id": "f0f3d9a2",
   "metadata": {},
   "outputs": [
    {
     "data": {
      "text/plain": [
       "[1, 4, 5, 7]"
      ]
     },
     "execution_count": 21,
     "metadata": {},
     "output_type": "execute_result"
    }
   ],
   "source": [
    "L2"
   ]
  },
  {
   "cell_type": "code",
   "execution_count": 22,
   "id": "0e204c70",
   "metadata": {},
   "outputs": [],
   "source": [
    "L2[1] = 3"
   ]
  },
  {
   "cell_type": "code",
   "execution_count": 23,
   "id": "1426b863",
   "metadata": {},
   "outputs": [
    {
     "data": {
      "text/plain": [
       "[1, 3, 5, 7]"
      ]
     },
     "execution_count": 23,
     "metadata": {},
     "output_type": "execute_result"
    }
   ],
   "source": [
    "L2"
   ]
  },
  {
   "cell_type": "code",
   "execution_count": 24,
   "id": "e13e7b8b",
   "metadata": {},
   "outputs": [
    {
     "data": {
      "text/plain": [
       "[1, 4, 5, 7]"
      ]
     },
     "execution_count": 24,
     "metadata": {},
     "output_type": "execute_result"
    }
   ],
   "source": [
    "L"
   ]
  },
  {
   "cell_type": "code",
   "execution_count": 25,
   "id": "17a94876",
   "metadata": {},
   "outputs": [],
   "source": [
    "# slicing a list returns a copy (Numpy is different)"
   ]
  },
  {
   "cell_type": "code",
   "execution_count": 26,
   "id": "65d6b1a9",
   "metadata": {},
   "outputs": [],
   "source": [
    "L3 = [x**2 for x in range(10)]"
   ]
  },
  {
   "cell_type": "code",
   "execution_count": 27,
   "id": "3582a05f",
   "metadata": {},
   "outputs": [
    {
     "data": {
      "text/plain": [
       "[0, 1, 4, 9, 16, 25, 36, 49, 64, 81]"
      ]
     },
     "execution_count": 27,
     "metadata": {},
     "output_type": "execute_result"
    }
   ],
   "source": [
    "L3"
   ]
  },
  {
   "cell_type": "markdown",
   "id": "aae5b2c0",
   "metadata": {},
   "source": [
    "# Numpy"
   ]
  },
  {
   "cell_type": "code",
   "execution_count": 3,
   "id": "200a54a7",
   "metadata": {},
   "outputs": [
    {
     "data": {
      "text/plain": [
       "'Why Numpy? Numpy is Faster'"
      ]
     },
     "execution_count": 3,
     "metadata": {},
     "output_type": "execute_result"
    }
   ],
   "source": [
    "'''Why Numpy? Numpy is Faster''' "
   ]
  },
  {
   "cell_type": "code",
   "execution_count": 2,
   "id": "e416c3ff",
   "metadata": {},
   "outputs": [],
   "source": [
    "import numpy as np"
   ]
  },
  {
   "cell_type": "code",
   "execution_count": 5,
   "id": "0b3682f3",
   "metadata": {},
   "outputs": [],
   "source": [
    "a = np.array([1,2,3,4,5])\n",
    "b = np.array((1,6,3,4,9))"
   ]
  },
  {
   "cell_type": "code",
   "execution_count": 6,
   "id": "b972c6f9",
   "metadata": {},
   "outputs": [
    {
     "name": "stdout",
     "output_type": "stream",
     "text": [
      "[1 2 3 4 5] [1 6 3 4 9]\n"
     ]
    }
   ],
   "source": [
    "print(a,b)"
   ]
  },
  {
   "cell_type": "code",
   "execution_count": 7,
   "id": "4242425b",
   "metadata": {},
   "outputs": [
    {
     "name": "stdout",
     "output_type": "stream",
     "text": [
      "[1 2 3 4 5]\n"
     ]
    }
   ],
   "source": [
    "print(a)"
   ]
  },
  {
   "cell_type": "code",
   "execution_count": 8,
   "id": "c4800e3a",
   "metadata": {},
   "outputs": [
    {
     "name": "stdout",
     "output_type": "stream",
     "text": [
      "[1 6 3 4 9]\n"
     ]
    }
   ],
   "source": [
    "print(b)"
   ]
  },
  {
   "cell_type": "code",
   "execution_count": 9,
   "id": "1a31d1d8",
   "metadata": {},
   "outputs": [
    {
     "data": {
      "text/plain": [
       "numpy.ndarray"
      ]
     },
     "execution_count": 9,
     "metadata": {},
     "output_type": "execute_result"
    }
   ],
   "source": [
    "type(a)"
   ]
  },
  {
   "cell_type": "code",
   "execution_count": 10,
   "id": "1f436149",
   "metadata": {},
   "outputs": [
    {
     "data": {
      "text/plain": [
       "numpy.ndarray"
      ]
     },
     "execution_count": 10,
     "metadata": {},
     "output_type": "execute_result"
    }
   ],
   "source": [
    "type(b)"
   ]
  },
  {
   "cell_type": "code",
   "execution_count": 12,
   "id": "37dbef3e",
   "metadata": {},
   "outputs": [
    {
     "data": {
      "text/plain": [
       "dtype('int64')"
      ]
     },
     "execution_count": 12,
     "metadata": {},
     "output_type": "execute_result"
    }
   ],
   "source": [
    "a.dtype"
   ]
  },
  {
   "cell_type": "code",
   "execution_count": 13,
   "id": "a93b38e0",
   "metadata": {},
   "outputs": [],
   "source": [
    "c = np.array([1,3,5,7],dtype='f')"
   ]
  },
  {
   "cell_type": "code",
   "execution_count": 14,
   "id": "6febab6a",
   "metadata": {},
   "outputs": [
    {
     "data": {
      "text/plain": [
       "array([1., 3., 5., 7.], dtype=float32)"
      ]
     },
     "execution_count": 14,
     "metadata": {},
     "output_type": "execute_result"
    }
   ],
   "source": [
    "c"
   ]
  },
  {
   "cell_type": "code",
   "execution_count": 16,
   "id": "dc13dcae",
   "metadata": {},
   "outputs": [
    {
     "data": {
      "text/plain": [
       "dtype('float32')"
      ]
     },
     "execution_count": 16,
     "metadata": {},
     "output_type": "execute_result"
    }
   ],
   "source": [
    "c.dtype # data type"
   ]
  },
  {
   "cell_type": "code",
   "execution_count": 18,
   "id": "e4ee063c",
   "metadata": {},
   "outputs": [],
   "source": [
    "a = np.array([[1,2,3],[4,5,6]])"
   ]
  },
  {
   "cell_type": "code",
   "execution_count": 19,
   "id": "cba3ee12",
   "metadata": {},
   "outputs": [
    {
     "name": "stdout",
     "output_type": "stream",
     "text": [
      "2\n"
     ]
    }
   ],
   "source": [
    "print(a.ndim) # dim stands for dimension"
   ]
  },
  {
   "cell_type": "code",
   "execution_count": 20,
   "id": "fc3c6e34",
   "metadata": {},
   "outputs": [
    {
     "data": {
      "text/plain": [
       "array([4, 5, 6])"
      ]
     },
     "execution_count": 20,
     "metadata": {},
     "output_type": "execute_result"
    }
   ],
   "source": [
    "a[1]"
   ]
  },
  {
   "cell_type": "code",
   "execution_count": 21,
   "id": "99c31550",
   "metadata": {},
   "outputs": [
    {
     "data": {
      "text/plain": [
       "array([1, 2, 3])"
      ]
     },
     "execution_count": 21,
     "metadata": {},
     "output_type": "execute_result"
    }
   ],
   "source": [
    "a[0]"
   ]
  },
  {
   "cell_type": "code",
   "execution_count": 22,
   "id": "790c6a25",
   "metadata": {},
   "outputs": [],
   "source": [
    "b = np.array([[[1,2,3],[4,5,6]],[[1,2,3],[4,5,6]]])"
   ]
  },
  {
   "cell_type": "code",
   "execution_count": 23,
   "id": "fbd43b31",
   "metadata": {},
   "outputs": [
    {
     "name": "stdout",
     "output_type": "stream",
     "text": [
      "3\n"
     ]
    }
   ],
   "source": [
    "print(b.ndim)"
   ]
  },
  {
   "cell_type": "code",
   "execution_count": 24,
   "id": "a632528b",
   "metadata": {},
   "outputs": [
    {
     "name": "stdout",
     "output_type": "stream",
     "text": [
      "2 2 3\n"
     ]
    }
   ],
   "source": [
    "print(b.shape[0],b.shape[1],b.shape[2])"
   ]
  },
  {
   "cell_type": "code",
   "execution_count": 25,
   "id": "8425dd7d",
   "metadata": {},
   "outputs": [
    {
     "name": "stdout",
     "output_type": "stream",
     "text": [
      "3\n"
     ]
    }
   ],
   "source": [
    "print(b[1,0,2])"
   ]
  },
  {
   "cell_type": "code",
   "execution_count": 1,
   "id": "4e653605",
   "metadata": {},
   "outputs": [
    {
     "data": {
      "text/plain": [
       "'\\nnp.arrange\\nnp.random.permutation\\nnp.reshape\\n'"
      ]
     },
     "execution_count": 1,
     "metadata": {},
     "output_type": "execute_result"
    }
   ],
   "source": [
    "'''\n",
    "np.arange\n",
    "np.random.permutation\n",
    "np.reshape\n",
    "'''"
   ]
  },
  {
   "cell_type": "code",
   "execution_count": 4,
   "id": "6712c739",
   "metadata": {},
   "outputs": [],
   "source": [
    "A = np.arange(100) # generate an array from 0 to 99"
   ]
  },
  {
   "cell_type": "code",
   "execution_count": 5,
   "id": "d1be27e7",
   "metadata": {},
   "outputs": [
    {
     "data": {
      "text/plain": [
       "array([ 0,  1,  2,  3,  4,  5,  6,  7,  8,  9, 10, 11, 12, 13, 14, 15, 16,\n",
       "       17, 18, 19, 20, 21, 22, 23, 24, 25, 26, 27, 28, 29, 30, 31, 32, 33,\n",
       "       34, 35, 36, 37, 38, 39, 40, 41, 42, 43, 44, 45, 46, 47, 48, 49, 50,\n",
       "       51, 52, 53, 54, 55, 56, 57, 58, 59, 60, 61, 62, 63, 64, 65, 66, 67,\n",
       "       68, 69, 70, 71, 72, 73, 74, 75, 76, 77, 78, 79, 80, 81, 82, 83, 84,\n",
       "       85, 86, 87, 88, 89, 90, 91, 92, 93, 94, 95, 96, 97, 98, 99])"
      ]
     },
     "execution_count": 5,
     "metadata": {},
     "output_type": "execute_result"
    }
   ],
   "source": [
    "A"
   ]
  },
  {
   "cell_type": "code",
   "execution_count": 6,
   "id": "b11249f3",
   "metadata": {},
   "outputs": [
    {
     "name": "stdout",
     "output_type": "stream",
     "text": [
      "[ 0  1  2  3  4  5  6  7  8  9 10 11 12 13 14 15 16 17 18 19 20 21 22 23\n",
      " 24 25 26 27 28 29 30 31 32 33 34 35 36 37 38 39 40 41 42 43 44 45 46 47\n",
      " 48 49 50 51 52 53 54 55 56 57 58 59 60 61 62 63 64 65 66 67 68 69 70 71\n",
      " 72 73 74 75 76 77 78 79 80 81 82 83 84 85 86 87 88 89 90 91 92 93 94 95\n",
      " 96 97 98 99]\n"
     ]
    }
   ],
   "source": [
    "print(A)"
   ]
  },
  {
   "cell_type": "code",
   "execution_count": 7,
   "id": "e99df6ab",
   "metadata": {},
   "outputs": [],
   "source": [
    "B = np.arange(20,100)"
   ]
  },
  {
   "cell_type": "code",
   "execution_count": 8,
   "id": "a9df2fb0",
   "metadata": {},
   "outputs": [
    {
     "name": "stdout",
     "output_type": "stream",
     "text": [
      "[20 21 22 23 24 25 26 27 28 29 30 31 32 33 34 35 36 37 38 39 40 41 42 43\n",
      " 44 45 46 47 48 49 50 51 52 53 54 55 56 57 58 59 60 61 62 63 64 65 66 67\n",
      " 68 69 70 71 72 73 74 75 76 77 78 79 80 81 82 83 84 85 86 87 88 89 90 91\n",
      " 92 93 94 95 96 97 98 99]\n"
     ]
    }
   ],
   "source": [
    "print(B)"
   ]
  },
  {
   "cell_type": "code",
   "execution_count": 9,
   "id": "22ef6199",
   "metadata": {},
   "outputs": [],
   "source": [
    "C = np.arange(20,100,3) # (start, end, step)"
   ]
  },
  {
   "cell_type": "code",
   "execution_count": 10,
   "id": "7e41c4f7",
   "metadata": {},
   "outputs": [
    {
     "name": "stdout",
     "output_type": "stream",
     "text": [
      "[20 23 26 29 32 35 38 41 44 47 50 53 56 59 62 65 68 71 74 77 80 83 86 89\n",
      " 92 95 98]\n"
     ]
    }
   ],
   "source": [
    "print(C)"
   ]
  },
  {
   "cell_type": "code",
   "execution_count": 11,
   "id": "97b8952e",
   "metadata": {},
   "outputs": [],
   "source": [
    "A = np.random.permutation(np.arange(10))"
   ]
  },
  {
   "cell_type": "code",
   "execution_count": 12,
   "id": "5d861232",
   "metadata": {},
   "outputs": [
    {
     "name": "stdout",
     "output_type": "stream",
     "text": [
      "[7 3 6 1 4 2 9 8 0 5]\n"
     ]
    }
   ],
   "source": [
    "print(A)"
   ]
  },
  {
   "cell_type": "code",
   "execution_count": 13,
   "id": "d47ae855",
   "metadata": {},
   "outputs": [],
   "source": [
    "V = np.random.randint(0,10)"
   ]
  },
  {
   "cell_type": "code",
   "execution_count": 14,
   "id": "09931186",
   "metadata": {},
   "outputs": [
    {
     "name": "stdout",
     "output_type": "stream",
     "text": [
      "7\n"
     ]
    }
   ],
   "source": [
    "print(V)"
   ]
  },
  {
   "cell_type": "code",
   "execution_count": 15,
   "id": "38495bc5",
   "metadata": {},
   "outputs": [
    {
     "data": {
      "text/plain": [
       "6"
      ]
     },
     "execution_count": 15,
     "metadata": {},
     "output_type": "execute_result"
    }
   ],
   "source": [
    "np.random.randint(0,10)"
   ]
  },
  {
   "cell_type": "code",
   "execution_count": 16,
   "id": "4ea399b0",
   "metadata": {},
   "outputs": [
    {
     "data": {
      "text/plain": [
       "2"
      ]
     },
     "execution_count": 16,
     "metadata": {},
     "output_type": "execute_result"
    }
   ],
   "source": [
    "np.random.randint(0,10)"
   ]
  },
  {
   "cell_type": "code",
   "execution_count": 17,
   "id": "5f7c6dbf",
   "metadata": {},
   "outputs": [],
   "source": [
    "A = np.random.rand(100) # generate 100 random number"
   ]
  },
  {
   "cell_type": "code",
   "execution_count": 18,
   "id": "6db11c9a",
   "metadata": {},
   "outputs": [
    {
     "name": "stdout",
     "output_type": "stream",
     "text": [
      "[0.37146896 0.73165052 0.65986471 0.22165123 0.31865352 0.47065467\n",
      " 0.14355705 0.71146928 0.449719   0.02815972 0.59761337 0.27762051\n",
      " 0.19688719 0.85289418 0.61647402 0.68594189 0.11089158 0.65327003\n",
      " 0.30908693 0.28010161 0.90162359 0.14935361 0.38879331 0.76079402\n",
      " 0.54069271 0.64487501 0.39502143 0.86384373 0.06579468 0.15459821\n",
      " 0.8170552  0.73860945 0.68164955 0.96627353 0.34793    0.6122941\n",
      " 0.94223199 0.58874354 0.76214632 0.80818275 0.60496487 0.24326532\n",
      " 0.79050173 0.82869104 0.41043412 0.09391075 0.15147927 0.76308965\n",
      " 0.620111   0.35851464 0.70227871 0.51632255 0.73002149 0.85090055\n",
      " 0.96466186 0.98188899 0.42530096 0.61801562 0.07463836 0.86669811\n",
      " 0.16328721 0.67151185 0.09295826 0.0937518  0.34205859 0.06014741\n",
      " 0.65842842 0.72646717 0.34633711 0.06737081 0.87448618 0.16188181\n",
      " 0.22289023 0.60947684 0.03679787 0.15554194 0.99581719 0.16502105\n",
      " 0.03570267 0.46830894 0.09233267 0.22650441 0.05827077 0.84704587\n",
      " 0.50081402 0.09210069 0.99081216 0.73955755 0.38880006 0.92809832\n",
      " 0.32069041 0.71150876 0.65000712 0.91048974 0.08050824 0.4484304\n",
      " 0.95657931 0.27013635 0.84162829 0.29126762]\n"
     ]
    }
   ],
   "source": [
    "print(A)"
   ]
  },
  {
   "cell_type": "code",
   "execution_count": 19,
   "id": "1b4556d7",
   "metadata": {},
   "outputs": [],
   "source": [
    "np.random.rand?"
   ]
  },
  {
   "cell_type": "code",
   "execution_count": 20,
   "id": "5ab8ba0a",
   "metadata": {},
   "outputs": [],
   "source": [
    "import matplotlib.pyplot as plt"
   ]
  },
  {
   "cell_type": "code",
   "execution_count": 22,
   "id": "94fd737f",
   "metadata": {},
   "outputs": [
    {
     "data": {
      "text/plain": [
       "(array([3., 0., 0., 3., 2., 1., 5., 0., 1., 0., 0., 1., 2., 4., 1., 0., 0.,\n",
       "        1., 0., 1., 2., 0., 1., 0., 0., 2., 1., 1., 0., 1., 2., 0., 2., 1.,\n",
       "        1., 1., 0., 3., 0., 1., 0., 1., 0., 2., 0., 2., 0., 0., 1., 0., 1.,\n",
       "        0., 1., 0., 0., 0., 0., 1., 1., 1., 4., 1., 0., 1., 2., 2., 1., 2.,\n",
       "        0., 1., 2., 0., 3., 2., 0., 3., 0., 0., 1., 0., 1., 1., 1., 0., 2.,\n",
       "        2., 2., 1., 0., 0., 1., 1., 0., 1., 1., 1., 2., 0., 1., 2.]),\n",
       " array([0.02815972, 0.03783629, 0.04751287, 0.05718944, 0.06686602,\n",
       "        0.07654259, 0.08621917, 0.09589574, 0.10557232, 0.11524889,\n",
       "        0.12492547, 0.13460204, 0.14427862, 0.15395519, 0.16363177,\n",
       "        0.17330834, 0.18298491, 0.19266149, 0.20233806, 0.21201464,\n",
       "        0.22169121, 0.23136779, 0.24104436, 0.25072094, 0.26039751,\n",
       "        0.27007409, 0.27975066, 0.28942724, 0.29910381, 0.30878039,\n",
       "        0.31845696, 0.32813354, 0.33781011, 0.34748668, 0.35716326,\n",
       "        0.36683983, 0.37651641, 0.38619298, 0.39586956, 0.40554613,\n",
       "        0.41522271, 0.42489928, 0.43457586, 0.44425243, 0.45392901,\n",
       "        0.46360558, 0.47328216, 0.48295873, 0.4926353 , 0.50231188,\n",
       "        0.51198845, 0.52166503, 0.5313416 , 0.54101818, 0.55069475,\n",
       "        0.56037133, 0.5700479 , 0.57972448, 0.58940105, 0.59907763,\n",
       "        0.6087542 , 0.61843078, 0.62810735, 0.63778393, 0.6474605 ,\n",
       "        0.65713707, 0.66681365, 0.67649022, 0.6861668 , 0.69584337,\n",
       "        0.70551995, 0.71519652, 0.7248731 , 0.73454967, 0.74422625,\n",
       "        0.75390282, 0.7635794 , 0.77325597, 0.78293255, 0.79260912,\n",
       "        0.80228569, 0.81196227, 0.82163884, 0.83131542, 0.84099199,\n",
       "        0.85066857, 0.86034514, 0.87002172, 0.87969829, 0.88937487,\n",
       "        0.89905144, 0.90872802, 0.91840459, 0.92808117, 0.93775774,\n",
       "        0.94743432, 0.95711089, 0.96678746, 0.97646404, 0.98614061,\n",
       "        0.99581719]),\n",
       " <BarContainer object of 100 artists>)"
      ]
     },
     "execution_count": 22,
     "metadata": {},
     "output_type": "execute_result"
    },
    {
     "data": {
      "image/png": "[encoded data removed]",
      "text/plain": [
       "<Figure size 432x288 with 1 Axes>"
      ]
     },
     "metadata": {
      "needs_background": "light"
     },
     "output_type": "display_data"
    }
   ],
   "source": [
    "plt.hist(A,bins=100)"
   ]
  },
  {
   "cell_type": "code",
   "execution_count": 24,
   "id": "990e02dc",
   "metadata": {},
   "outputs": [],
   "source": [
    "np.random.randn?"
   ]
  },
  {
   "cell_type": "code",
   "execution_count": 25,
   "id": "84d2bd2a",
   "metadata": {},
   "outputs": [],
   "source": [
    "B = np.random.randn(10000)"
   ]
  },
  {
   "cell_type": "code",
   "execution_count": 29,
   "id": "f333dce7",
   "metadata": {},
   "outputs": [
    {
     "data": {
      "text/plain": [
       "(array([  1.,   0.,   0.,   0.,   0.,   0.,   0.,   0.,   0.,   1.,   0.,\n",
       "          1.,   0.,   0.,   1.,   1.,   1.,   0.,   2.,   4.,   1.,   3.,\n",
       "          2.,   4.,   8.,   3.,   1.,   5.,   4.,   7.,   5.,   7.,   5.,\n",
       "          8.,   6.,   4.,  11.,  14.,  21.,   8.,  19.,   6.,  16.,  13.,\n",
       "         24.,  26.,  21.,  21.,  27.,  25.,  29.,  19.,  39.,  41.,  53.,\n",
       "         33.,  45.,  43.,  51.,  44.,  51.,  58.,  52.,  53.,  76.,  78.,\n",
       "         73.,  98.,  94.,  70.,  96.,  87.,  89.,  93.,  92.,  92., 134.,\n",
       "        132., 135., 112., 122., 139., 125., 140., 133., 142., 165., 156.,\n",
       "        147., 131., 147., 168., 147., 171., 145., 157., 161., 154., 174.,\n",
       "        156., 142., 156., 134., 144., 155., 143., 138., 133., 139., 153.,\n",
       "        141., 131., 112., 125., 136., 122., 118., 110., 103., 108.,  90.,\n",
       "        107.,  94., 101.,  81.,  86.,  84.,  72.,  64.,  76.,  57.,  58.,\n",
       "         61.,  63.,  35.,  49.,  44.,  37.,  45.,  50.,  43.,  37.,  34.,\n",
       "         35.,  29.,  32.,  33.,  24.,  32.,  17.,  19.,  16.,  19.,  17.,\n",
       "         16.,   8.,  11.,  17.,   5.,   5.,   9.,   8.,   6.,   6.,   3.,\n",
       "          2.,   3.,   5.,   2.,   3.,   4.,   3.,   2.,   3.,   1.,   0.,\n",
       "          3.,   4.,   0.,   2.,   0.,   0.,   0.,   0.,   1.,   2.,   0.,\n",
       "          0.,   1.,   0.,   0.,   0.,   1.,   0.,   0.,   0.,   0.,   0.,\n",
       "          0.,   1.]),\n",
       " array([-3.78066186e+00, -3.74166123e+00, -3.70266060e+00, -3.66365997e+00,\n",
       "        -3.62465935e+00, -3.58565872e+00, -3.54665809e+00, -3.50765746e+00,\n",
       "        -3.46865683e+00, -3.42965620e+00, -3.39065557e+00, -3.35165494e+00,\n",
       "        -3.31265431e+00, -3.27365369e+00, -3.23465306e+00, -3.19565243e+00,\n",
       "        -3.15665180e+00, -3.11765117e+00, -3.07865054e+00, -3.03964991e+00,\n",
       "        -3.00064928e+00, -2.96164866e+00, -2.92264803e+00, -2.88364740e+00,\n",
       "        -2.84464677e+00, -2.80564614e+00, -2.76664551e+00, -2.72764488e+00,\n",
       "        -2.68864425e+00, -2.64964363e+00, -2.61064300e+00, -2.57164237e+00,\n",
       "        -2.53264174e+00, -2.49364111e+00, -2.45464048e+00, -2.41563985e+00,\n",
       "        -2.37663922e+00, -2.33763860e+00, -2.29863797e+00, -2.25963734e+00,\n",
       "        -2.22063671e+00, -2.18163608e+00, -2.14263545e+00, -2.10363482e+00,\n",
       "        -2.06463419e+00, -2.02563357e+00, -1.98663294e+00, -1.94763231e+00,\n",
       "        -1.90863168e+00, -1.86963105e+00, -1.83063042e+00, -1.79162979e+00,\n",
       "        -1.75262916e+00, -1.71362853e+00, -1.67462791e+00, -1.63562728e+00,\n",
       "        -1.59662665e+00, -1.55762602e+00, -1.51862539e+00, -1.47962476e+00,\n",
       "        -1.44062413e+00, -1.40162350e+00, -1.36262288e+00, -1.32362225e+00,\n",
       "        -1.28462162e+00, -1.24562099e+00, -1.20662036e+00, -1.16761973e+00,\n",
       "        -1.12861910e+00, -1.08961847e+00, -1.05061785e+00, -1.01161722e+00,\n",
       "        -9.72616588e-01, -9.33615959e-01, -8.94615330e-01, -8.55614702e-01,\n",
       "        -8.16614073e-01, -7.77613444e-01, -7.38612815e-01, -6.99612186e-01,\n",
       "        -6.60611558e-01, -6.21610929e-01, -5.82610300e-01, -5.43609671e-01,\n",
       "        -5.04609043e-01, -4.65608414e-01, -4.26607785e-01, -3.87607156e-01,\n",
       "        -3.48606527e-01, -3.09605899e-01, -2.70605270e-01, -2.31604641e-01,\n",
       "        -1.92604012e-01, -1.53603383e-01, -1.14602755e-01, -7.56021259e-02,\n",
       "        -3.66014971e-02,  2.39913164e-03,  4.13997604e-02,  8.04003892e-02,\n",
       "         1.19401018e-01,  1.58401647e-01,  1.97402276e-01,  2.36402904e-01,\n",
       "         2.75403533e-01,  3.14404162e-01,  3.53404791e-01,  3.92405419e-01,\n",
       "         4.31406048e-01,  4.70406677e-01,  5.09407306e-01,  5.48407935e-01,\n",
       "         5.87408563e-01,  6.26409192e-01,  6.65409821e-01,  7.04410450e-01,\n",
       "         7.43411078e-01,  7.82411707e-01,  8.21412336e-01,  8.60412965e-01,\n",
       "         8.99413594e-01,  9.38414222e-01,  9.77414851e-01,  1.01641548e+00,\n",
       "         1.05541611e+00,  1.09441674e+00,  1.13341737e+00,  1.17241800e+00,\n",
       "         1.21141862e+00,  1.25041925e+00,  1.28941988e+00,  1.32842051e+00,\n",
       "         1.36742114e+00,  1.40642177e+00,  1.44542240e+00,  1.48442303e+00,\n",
       "         1.52342365e+00,  1.56242428e+00,  1.60142491e+00,  1.64042554e+00,\n",
       "         1.67942617e+00,  1.71842680e+00,  1.75742743e+00,  1.79642806e+00,\n",
       "         1.83542868e+00,  1.87442931e+00,  1.91342994e+00,  1.95243057e+00,\n",
       "         1.99143120e+00,  2.03043183e+00,  2.06943246e+00,  2.10843309e+00,\n",
       "         2.14743371e+00,  2.18643434e+00,  2.22543497e+00,  2.26443560e+00,\n",
       "         2.30343623e+00,  2.34243686e+00,  2.38143749e+00,  2.42043812e+00,\n",
       "         2.45943874e+00,  2.49843937e+00,  2.53744000e+00,  2.57644063e+00,\n",
       "         2.61544126e+00,  2.65444189e+00,  2.69344252e+00,  2.73244315e+00,\n",
       "         2.77144378e+00,  2.81044440e+00,  2.84944503e+00,  2.88844566e+00,\n",
       "         2.92744629e+00,  2.96644692e+00,  3.00544755e+00,  3.04444818e+00,\n",
       "         3.08344881e+00,  3.12244943e+00,  3.16145006e+00,  3.20045069e+00,\n",
       "         3.23945132e+00,  3.27845195e+00,  3.31745258e+00,  3.35645321e+00,\n",
       "         3.39545384e+00,  3.43445446e+00,  3.47345509e+00,  3.51245572e+00,\n",
       "         3.55145635e+00,  3.59045698e+00,  3.62945761e+00,  3.66845824e+00,\n",
       "         3.70745887e+00,  3.74645949e+00,  3.78546012e+00,  3.82446075e+00,\n",
       "         3.86346138e+00,  3.90246201e+00,  3.94146264e+00,  3.98046327e+00,\n",
       "         4.01946390e+00]),\n",
       " <BarContainer object of 200 artists>)"
      ]
     },
     "execution_count": 29,
     "metadata": {},
     "output_type": "execute_result"
    },
    {
     "data": {
      "image/png": "[encoded data removed]",
      "text/plain": [
       "<Figure size 432x288 with 1 Axes>"
      ]
     },
     "metadata": {
      "needs_background": "light"
     },
     "output_type": "display_data"
    }
   ],
   "source": [
    "plt.hist(B,bins=200)"
   ]
  },
  {
   "cell_type": "code",
   "execution_count": 30,
   "id": "37115f14",
   "metadata": {},
   "outputs": [],
   "source": [
    "D = np.arange(100).reshape(5,20) # reshape the array to required dimension"
   ]
  },
  {
   "cell_type": "code",
   "execution_count": 31,
   "id": "116b275a",
   "metadata": {},
   "outputs": [
    {
     "data": {
      "text/plain": [
       "(5, 20)"
      ]
     },
     "execution_count": 31,
     "metadata": {},
     "output_type": "execute_result"
    }
   ],
   "source": [
    "D.shape"
   ]
  },
  {
   "cell_type": "code",
   "execution_count": 32,
   "id": "c9a17602",
   "metadata": {},
   "outputs": [
    {
     "name": "stdout",
     "output_type": "stream",
     "text": [
      "[[ 0  1  2  3  4  5  6  7  8  9 10 11 12 13 14 15 16 17 18 19]\n",
      " [20 21 22 23 24 25 26 27 28 29 30 31 32 33 34 35 36 37 38 39]\n",
      " [40 41 42 43 44 45 46 47 48 49 50 51 52 53 54 55 56 57 58 59]\n",
      " [60 61 62 63 64 65 66 67 68 69 70 71 72 73 74 75 76 77 78 79]\n",
      " [80 81 82 83 84 85 86 87 88 89 90 91 92 93 94 95 96 97 98 99]]\n"
     ]
    }
   ],
   "source": [
    "print(D)"
   ]
  },
  {
   "cell_type": "code",
   "execution_count": 1,
   "id": "a2a612d8",
   "metadata": {},
   "outputs": [],
   "source": [
    "# Slicing Array[start:end:step]"
   ]
  },
  {
   "cell_type": "code",
   "execution_count": 3,
   "id": "1fe32767",
   "metadata": {},
   "outputs": [],
   "source": [
    "A = np.arange(10)"
   ]
  },
  {
   "cell_type": "code",
   "execution_count": 4,
   "id": "49d690ba",
   "metadata": {},
   "outputs": [
    {
     "data": {
      "text/plain": [
       "array([0, 1, 2, 3, 4, 5, 6, 7, 8, 9])"
      ]
     },
     "execution_count": 4,
     "metadata": {},
     "output_type": "execute_result"
    }
   ],
   "source": [
    "A"
   ]
  },
  {
   "cell_type": "code",
   "execution_count": 5,
   "id": "4f490988",
   "metadata": {},
   "outputs": [
    {
     "data": {
      "text/plain": [
       "array([1, 2, 3, 4])"
      ]
     },
     "execution_count": 5,
     "metadata": {},
     "output_type": "execute_result"
    }
   ],
   "source": [
    "A[1:5]"
   ]
  },
  {
   "cell_type": "code",
   "execution_count": 6,
   "id": "fc74f1b9",
   "metadata": {},
   "outputs": [
    {
     "data": {
      "text/plain": [
       "array([0, 1, 2, 3, 4])"
      ]
     },
     "execution_count": 6,
     "metadata": {},
     "output_type": "execute_result"
    }
   ],
   "source": [
    "A[0:5]"
   ]
  },
  {
   "cell_type": "code",
   "execution_count": 7,
   "id": "ddb8113d",
   "metadata": {},
   "outputs": [
    {
     "data": {
      "text/plain": [
       "array([ True,  True,  True,  True,  True])"
      ]
     },
     "execution_count": 7,
     "metadata": {},
     "output_type": "execute_result"
    }
   ],
   "source": [
    "A[:5] == A[0:5]"
   ]
  },
  {
   "cell_type": "code",
   "execution_count": 8,
   "id": "c8969198",
   "metadata": {},
   "outputs": [],
   "source": [
    "B = A[3:7]"
   ]
  },
  {
   "cell_type": "code",
   "execution_count": 9,
   "id": "1b2ba62a",
   "metadata": {},
   "outputs": [
    {
     "data": {
      "text/plain": [
       "array([3, 4, 5, 6])"
      ]
     },
     "execution_count": 9,
     "metadata": {},
     "output_type": "execute_result"
    }
   ],
   "source": [
    "B"
   ]
  },
  {
   "cell_type": "code",
   "execution_count": 10,
   "id": "ab767971",
   "metadata": {},
   "outputs": [],
   "source": [
    "B[0] = -10"
   ]
  },
  {
   "cell_type": "code",
   "execution_count": 11,
   "id": "3e18cbd0",
   "metadata": {},
   "outputs": [
    {
     "data": {
      "text/plain": [
       "array([-10,   4,   5,   6])"
      ]
     },
     "execution_count": 11,
     "metadata": {},
     "output_type": "execute_result"
    }
   ],
   "source": [
    "B"
   ]
  },
  {
   "cell_type": "code",
   "execution_count": 12,
   "id": "396f54e3",
   "metadata": {},
   "outputs": [
    {
     "data": {
      "text/plain": [
       "array([  0,   1,   2, -10,   4,   5,   6,   7,   8,   9])"
      ]
     },
     "execution_count": 12,
     "metadata": {},
     "output_type": "execute_result"
    }
   ],
   "source": [
    "A"
   ]
  },
  {
   "cell_type": "code",
   "execution_count": 13,
   "id": "a283a78a",
   "metadata": {},
   "outputs": [
    {
     "data": {
      "text/plain": [
       "'\\nArray A and B points to the same reference (memory)\\nchange A or B will affect each other\\n'"
      ]
     },
     "execution_count": 13,
     "metadata": {},
     "output_type": "execute_result"
    }
   ],
   "source": [
    "'''\n",
    "Array A and B points to the same reference (memory)\n",
    "change A or B will affect each other\n",
    "'''"
   ]
  },
  {
   "cell_type": "code",
   "execution_count": 14,
   "id": "44662769",
   "metadata": {},
   "outputs": [],
   "source": [
    "B = A[3:7].copy() \n",
    "# this will assign different memory to store Array"
   ]
  },
  {
   "cell_type": "code",
   "execution_count": 15,
   "id": "9113b6be",
   "metadata": {},
   "outputs": [
    {
     "data": {
      "text/plain": [
       "array([-10,   4,   5,   6])"
      ]
     },
     "execution_count": 15,
     "metadata": {},
     "output_type": "execute_result"
    }
   ],
   "source": [
    "B"
   ]
  },
  {
   "cell_type": "code",
   "execution_count": 16,
   "id": "df3bf9f6",
   "metadata": {},
   "outputs": [],
   "source": [
    "B[0]=3"
   ]
  },
  {
   "cell_type": "code",
   "execution_count": 17,
   "id": "30346618",
   "metadata": {},
   "outputs": [
    {
     "data": {
      "text/plain": [
       "array([3, 4, 5, 6])"
      ]
     },
     "execution_count": 17,
     "metadata": {},
     "output_type": "execute_result"
    }
   ],
   "source": [
    "B"
   ]
  },
  {
   "cell_type": "code",
   "execution_count": 18,
   "id": "94402eff",
   "metadata": {},
   "outputs": [
    {
     "data": {
      "text/plain": [
       "array([  0,   1,   2, -10,   4,   5,   6,   7,   8,   9])"
      ]
     },
     "execution_count": 18,
     "metadata": {},
     "output_type": "execute_result"
    }
   ],
   "source": [
    "A"
   ]
  },
  {
   "cell_type": "code",
   "execution_count": 19,
   "id": "3d1544cd",
   "metadata": {},
   "outputs": [
    {
     "data": {
      "text/plain": [
       "array([  9,   8,   7,   6,   5,   4, -10,   2,   1,   0])"
      ]
     },
     "execution_count": 19,
     "metadata": {},
     "output_type": "execute_result"
    }
   ],
   "source": [
    "A[::-1]"
   ]
  },
  {
   "cell_type": "code",
   "execution_count": 20,
   "id": "f482a751",
   "metadata": {},
   "outputs": [
    {
     "data": {
      "text/plain": [
       "array([  9,   6, -10,   0])"
      ]
     },
     "execution_count": 20,
     "metadata": {},
     "output_type": "execute_result"
    }
   ],
   "source": [
    "A[::-3]"
   ]
  },
  {
   "cell_type": "code",
   "execution_count": 25,
   "id": "5041aca2",
   "metadata": {},
   "outputs": [
    {
     "data": {
      "text/plain": [
       "array([[3]])"
      ]
     },
     "execution_count": 25,
     "metadata": {},
     "output_type": "execute_result"
    }
   ],
   "source": [
    "np.argwhere(A==-10) # return the index of the element"
   ]
  },
  {
   "cell_type": "code",
   "execution_count": 31,
   "id": "c1cd0be4",
   "metadata": {},
   "outputs": [
    {
     "data": {
      "text/plain": [
       "array([], shape=(0, 1), dtype=int64)"
      ]
     },
     "execution_count": 31,
     "metadata": {},
     "output_type": "execute_result"
    }
   ],
   "source": [
    "np.argwhere(A==10)"
   ]
  },
  {
   "cell_type": "code",
   "execution_count": 34,
   "id": "c4840948",
   "metadata": {},
   "outputs": [],
   "source": [
    " idx = np.argwhere(A==10)"
   ]
  },
  {
   "cell_type": "code",
   "execution_count": 35,
   "id": "ff708a53",
   "metadata": {},
   "outputs": [
    {
     "data": {
      "text/plain": [
       "array([], shape=(0, 1), dtype=int64)"
      ]
     },
     "execution_count": 35,
     "metadata": {},
     "output_type": "execute_result"
    }
   ],
   "source": [
    "idx"
   ]
  },
  {
   "cell_type": "code",
   "execution_count": 38,
   "id": "b2e16a4c",
   "metadata": {},
   "outputs": [
    {
     "data": {
      "text/plain": [
       "(0, 1)"
      ]
     },
     "execution_count": 38,
     "metadata": {},
     "output_type": "execute_result"
    }
   ],
   "source": [
    "np.shape(idx)"
   ]
  },
  {
   "cell_type": "code",
   "execution_count": 39,
   "id": "59870f99",
   "metadata": {},
   "outputs": [
    {
     "data": {
      "text/plain": [
       "-10"
      ]
     },
     "execution_count": 39,
     "metadata": {},
     "output_type": "execute_result"
    }
   ],
   "source": [
    "A[3]"
   ]
  },
  {
   "cell_type": "code",
   "execution_count": 40,
   "id": "177bef0a",
   "metadata": {},
   "outputs": [],
   "source": [
    "A = np.round(10*np.random.rand(5,4))"
   ]
  },
  {
   "cell_type": "code",
   "execution_count": 41,
   "id": "04ae08e0",
   "metadata": {},
   "outputs": [
    {
     "data": {
      "text/plain": [
       "array([[ 9.,  6., 10.,  9.],\n",
       "       [ 2.,  2., 10., 10.],\n",
       "       [ 6., 10.,  1.,  1.],\n",
       "       [ 5.,  6.,  0.,  4.],\n",
       "       [ 3., 10.,  1.,  1.]])"
      ]
     },
     "execution_count": 41,
     "metadata": {},
     "output_type": "execute_result"
    }
   ],
   "source": [
    "A"
   ]
  },
  {
   "cell_type": "code",
   "execution_count": 42,
   "id": "80d46d0f",
   "metadata": {},
   "outputs": [
    {
     "data": {
      "text/plain": [
       "10.0"
      ]
     },
     "execution_count": 42,
     "metadata": {},
     "output_type": "execute_result"
    }
   ],
   "source": [
    "A[1,2]"
   ]
  },
  {
   "cell_type": "code",
   "execution_count": 43,
   "id": "c88e45b7",
   "metadata": {},
   "outputs": [
    {
     "data": {
      "text/plain": [
       "array([ 2.,  2., 10., 10.])"
      ]
     },
     "execution_count": 43,
     "metadata": {},
     "output_type": "execute_result"
    }
   ],
   "source": [
    "A[1,:]"
   ]
  },
  {
   "cell_type": "code",
   "execution_count": 44,
   "id": "906361d9",
   "metadata": {},
   "outputs": [
    {
     "data": {
      "text/plain": [
       "array([10., 10.,  1.,  0.,  1.])"
      ]
     },
     "execution_count": 44,
     "metadata": {},
     "output_type": "execute_result"
    }
   ],
   "source": [
    "A[:,2]"
   ]
  },
  {
   "cell_type": "code",
   "execution_count": 45,
   "id": "8f077dfc",
   "metadata": {},
   "outputs": [
    {
     "data": {
      "text/plain": [
       "array([[9.]])"
      ]
     },
     "execution_count": 45,
     "metadata": {},
     "output_type": "execute_result"
    }
   ],
   "source": [
    "A[0:1,0:1]"
   ]
  },
  {
   "cell_type": "code",
   "execution_count": 46,
   "id": "d94ae5d4",
   "metadata": {},
   "outputs": [
    {
     "data": {
      "text/plain": [
       "array([[9., 6.],\n",
       "       [2., 2.]])"
      ]
     },
     "execution_count": 46,
     "metadata": {},
     "output_type": "execute_result"
    }
   ],
   "source": [
    "A[0:2,0:2]"
   ]
  },
  {
   "cell_type": "code",
   "execution_count": 48,
   "id": "c2fa3b25",
   "metadata": {},
   "outputs": [
    {
     "data": {
      "text/plain": [
       "array([[ 6., 10.],\n",
       "       [ 5.,  6.]])"
      ]
     },
     "execution_count": 48,
     "metadata": {},
     "output_type": "execute_result"
    }
   ],
   "source": [
    "A[2:4,0:2]"
   ]
  },
  {
   "cell_type": "code",
   "execution_count": 49,
   "id": "2950f89d",
   "metadata": {},
   "outputs": [
    {
     "data": {
      "text/plain": [
       "array([[ 9.,  6., 10.,  9.],\n",
       "       [ 2.,  2., 10., 10.],\n",
       "       [ 6., 10.,  1.,  1.],\n",
       "       [ 5.,  6.,  0.,  4.],\n",
       "       [ 3., 10.,  1.,  1.]])"
      ]
     },
     "execution_count": 49,
     "metadata": {},
     "output_type": "execute_result"
    }
   ],
   "source": [
    "A"
   ]
  },
  {
   "cell_type": "code",
   "execution_count": 54,
   "id": "903c4b9e",
   "metadata": {},
   "outputs": [],
   "source": [
    "A.sort(axis=0) # sort by column"
   ]
  },
  {
   "cell_type": "code",
   "execution_count": 55,
   "id": "cdf2c731",
   "metadata": {},
   "outputs": [
    {
     "data": {
      "text/plain": [
       "array([[ 2.,  2.,  0.,  1.],\n",
       "       [ 3.,  6.,  1.,  1.],\n",
       "       [ 5.,  6.,  1.,  4.],\n",
       "       [ 6., 10., 10.,  9.],\n",
       "       [ 9., 10., 10., 10.]])"
      ]
     },
     "execution_count": 55,
     "metadata": {},
     "output_type": "execute_result"
    }
   ],
   "source": [
    "A"
   ]
  },
  {
   "cell_type": "code",
   "execution_count": 56,
   "id": "634c229e",
   "metadata": {},
   "outputs": [],
   "source": [
    "A.sort(axis=1) # sort by row"
   ]
  },
  {
   "cell_type": "code",
   "execution_count": 57,
   "id": "0e5fe489",
   "metadata": {},
   "outputs": [
    {
     "data": {
      "text/plain": [
       "array([[ 0.,  1.,  2.,  2.],\n",
       "       [ 1.,  1.,  3.,  6.],\n",
       "       [ 1.,  4.,  5.,  6.],\n",
       "       [ 6.,  9., 10., 10.],\n",
       "       [ 9., 10., 10., 10.]])"
      ]
     },
     "execution_count": 57,
     "metadata": {},
     "output_type": "execute_result"
    }
   ],
   "source": [
    "A"
   ]
  },
  {
   "cell_type": "code",
   "execution_count": 58,
   "id": "66bc601b",
   "metadata": {},
   "outputs": [],
   "source": [
    "# Numpy Indexing"
   ]
  },
  {
   "cell_type": "code",
   "execution_count": 59,
   "id": "1d1536f9",
   "metadata": {},
   "outputs": [
    {
     "data": {
      "text/plain": [
       "array([[ 0.,  1.,  2.,  2.],\n",
       "       [ 1.,  1.,  3.,  6.],\n",
       "       [ 1.,  4.,  5.,  6.],\n",
       "       [ 6.,  9., 10., 10.],\n",
       "       [ 9., 10., 10., 10.]])"
      ]
     },
     "execution_count": 59,
     "metadata": {},
     "output_type": "execute_result"
    }
   ],
   "source": [
    "A"
   ]
  },
  {
   "cell_type": "code",
   "execution_count": 60,
   "id": "54cf21e1",
   "metadata": {},
   "outputs": [
    {
     "data": {
      "text/plain": [
       "array([0., 1., 2., 2., 1., 1., 3., 1., 4., 5.])"
      ]
     },
     "execution_count": 60,
     "metadata": {},
     "output_type": "execute_result"
    }
   ],
   "source": [
    "A[A<6]"
   ]
  },
  {
   "cell_type": "code",
   "execution_count": 61,
   "id": "28180e7c",
   "metadata": {},
   "outputs": [],
   "source": [
    "A=np.arange(100)"
   ]
  },
  {
   "cell_type": "code",
   "execution_count": 68,
   "id": "d7cf5e48",
   "metadata": {},
   "outputs": [],
   "source": [
    "B=A[[3,5,6]] # double [[]] means copy rather than pointing to the same memory"
   ]
  },
  {
   "cell_type": "code",
   "execution_count": 63,
   "id": "d69812c5",
   "metadata": {},
   "outputs": [
    {
     "data": {
      "text/plain": [
       "array([ 0,  1,  2,  3,  4,  5,  6,  7,  8,  9, 10, 11, 12, 13, 14, 15, 16,\n",
       "       17, 18, 19, 20, 21, 22, 23, 24, 25, 26, 27, 28, 29, 30, 31, 32, 33,\n",
       "       34, 35, 36, 37, 38, 39, 40, 41, 42, 43, 44, 45, 46, 47, 48, 49, 50,\n",
       "       51, 52, 53, 54, 55, 56, 57, 58, 59, 60, 61, 62, 63, 64, 65, 66, 67,\n",
       "       68, 69, 70, 71, 72, 73, 74, 75, 76, 77, 78, 79, 80, 81, 82, 83, 84,\n",
       "       85, 86, 87, 88, 89, 90, 91, 92, 93, 94, 95, 96, 97, 98, 99])"
      ]
     },
     "execution_count": 63,
     "metadata": {},
     "output_type": "execute_result"
    }
   ],
   "source": [
    "A"
   ]
  },
  {
   "cell_type": "code",
   "execution_count": 64,
   "id": "26df1497",
   "metadata": {},
   "outputs": [
    {
     "data": {
      "text/plain": [
       "array([3, 5, 6])"
      ]
     },
     "execution_count": 64,
     "metadata": {},
     "output_type": "execute_result"
    }
   ],
   "source": [
    "B"
   ]
  },
  {
   "cell_type": "code",
   "execution_count": 65,
   "id": "6f04c070",
   "metadata": {},
   "outputs": [],
   "source": [
    "B[0]=-4"
   ]
  },
  {
   "cell_type": "code",
   "execution_count": 66,
   "id": "b717a10a",
   "metadata": {},
   "outputs": [
    {
     "data": {
      "text/plain": [
       "array([-4,  5,  6])"
      ]
     },
     "execution_count": 66,
     "metadata": {},
     "output_type": "execute_result"
    }
   ],
   "source": [
    "B"
   ]
  },
  {
   "cell_type": "code",
   "execution_count": 67,
   "id": "0ca93984",
   "metadata": {},
   "outputs": [
    {
     "data": {
      "text/plain": [
       "array([ 0,  1,  2,  3,  4,  5,  6,  7,  8,  9, 10, 11, 12, 13, 14, 15, 16,\n",
       "       17, 18, 19, 20, 21, 22, 23, 24, 25, 26, 27, 28, 29, 30, 31, 32, 33,\n",
       "       34, 35, 36, 37, 38, 39, 40, 41, 42, 43, 44, 45, 46, 47, 48, 49, 50,\n",
       "       51, 52, 53, 54, 55, 56, 57, 58, 59, 60, 61, 62, 63, 64, 65, 66, 67,\n",
       "       68, 69, 70, 71, 72, 73, 74, 75, 76, 77, 78, 79, 80, 81, 82, 83, 84,\n",
       "       85, 86, 87, 88, 89, 90, 91, 92, 93, 94, 95, 96, 97, 98, 99])"
      ]
     },
     "execution_count": 67,
     "metadata": {},
     "output_type": "execute_result"
    }
   ],
   "source": [
    "A"
   ]
  },
  {
   "cell_type": "code",
   "execution_count": 69,
   "id": "9a3dcb4c",
   "metadata": {},
   "outputs": [],
   "source": [
    "B = A[A<40]"
   ]
  },
  {
   "cell_type": "code",
   "execution_count": 70,
   "id": "702f084d",
   "metadata": {},
   "outputs": [
    {
     "data": {
      "text/plain": [
       "array([ 0,  1,  2,  3,  4,  5,  6,  7,  8,  9, 10, 11, 12, 13, 14, 15, 16,\n",
       "       17, 18, 19, 20, 21, 22, 23, 24, 25, 26, 27, 28, 29, 30, 31, 32, 33,\n",
       "       34, 35, 36, 37, 38, 39])"
      ]
     },
     "execution_count": 70,
     "metadata": {},
     "output_type": "execute_result"
    }
   ],
   "source": [
    "B"
   ]
  },
  {
   "cell_type": "code",
   "execution_count": 71,
   "id": "d0332742",
   "metadata": {},
   "outputs": [],
   "source": [
    "C = A[(A<40) & (A>30)]"
   ]
  },
  {
   "cell_type": "code",
   "execution_count": 72,
   "id": "a2b66f45",
   "metadata": {},
   "outputs": [
    {
     "data": {
      "text/plain": [
       "array([31, 32, 33, 34, 35, 36, 37, 38, 39])"
      ]
     },
     "execution_count": 72,
     "metadata": {},
     "output_type": "execute_result"
    }
   ],
   "source": [
    "C"
   ]
  },
  {
   "cell_type": "code",
   "execution_count": 73,
   "id": "11fe8e4c",
   "metadata": {},
   "outputs": [],
   "source": [
    "# & for array, 'and' for single objects\n",
    "# |, or\n",
    "# ~, not"
   ]
  },
  {
   "cell_type": "code",
   "execution_count": 74,
   "id": "ddb72160",
   "metadata": {},
   "outputs": [],
   "source": [
    "# Broadcasting"
   ]
  },
  {
   "cell_type": "code",
   "execution_count": 76,
   "id": "d817cc42",
   "metadata": {},
   "outputs": [],
   "source": [
    "A = np.array([[1,2],[3,5]])"
   ]
  },
  {
   "cell_type": "code",
   "execution_count": 77,
   "id": "e6038e89",
   "metadata": {},
   "outputs": [
    {
     "data": {
      "text/plain": [
       "array([[1, 2],\n",
       "       [3, 5]])"
      ]
     },
     "execution_count": 77,
     "metadata": {},
     "output_type": "execute_result"
    }
   ],
   "source": [
    "A"
   ]
  },
  {
   "cell_type": "code",
   "execution_count": 78,
   "id": "817276c8",
   "metadata": {},
   "outputs": [],
   "source": [
    "A = A+5"
   ]
  },
  {
   "cell_type": "code",
   "execution_count": 79,
   "id": "a900c537",
   "metadata": {},
   "outputs": [
    {
     "data": {
      "text/plain": [
       "array([[ 6,  7],\n",
       "       [ 8, 10]])"
      ]
     },
     "execution_count": 79,
     "metadata": {},
     "output_type": "execute_result"
    }
   ],
   "source": [
    "A"
   ]
  },
  {
   "cell_type": "code",
   "execution_count": 80,
   "id": "65d38b14",
   "metadata": {},
   "outputs": [],
   "source": [
    "A = A + [1,2]"
   ]
  },
  {
   "cell_type": "code",
   "execution_count": 81,
   "id": "1e632ca4",
   "metadata": {},
   "outputs": [
    {
     "data": {
      "text/plain": [
       "array([[ 7,  9],\n",
       "       [ 9, 12]])"
      ]
     },
     "execution_count": 81,
     "metadata": {},
     "output_type": "execute_result"
    }
   ],
   "source": [
    "A"
   ]
  },
  {
   "cell_type": "code",
   "execution_count": 83,
   "id": "d1ca9d5f",
   "metadata": {},
   "outputs": [],
   "source": [
    "A = A + [[1],[2]]"
   ]
  },
  {
   "cell_type": "code",
   "execution_count": 84,
   "id": "4d2da932",
   "metadata": {},
   "outputs": [
    {
     "data": {
      "text/plain": [
       "array([[ 8, 10],\n",
       "       [11, 14]])"
      ]
     },
     "execution_count": 84,
     "metadata": {},
     "output_type": "execute_result"
    }
   ],
   "source": [
    "A"
   ]
  },
  {
   "cell_type": "code",
   "execution_count": 86,
   "id": "a066e8c9",
   "metadata": {},
   "outputs": [],
   "source": [
    "# np.hstack horrizontal stack\n",
    "# np.vstack vertical stack\n",
    "# np.sort(axis = 0)"
   ]
  },
  {
   "cell_type": "code",
   "execution_count": 87,
   "id": "193998c0",
   "metadata": {},
   "outputs": [],
   "source": [
    "A = np.round(10*np.random.rand(2,3))"
   ]
  },
  {
   "cell_type": "code",
   "execution_count": 88,
   "id": "7855b03c",
   "metadata": {},
   "outputs": [
    {
     "data": {
      "text/plain": [
       "array([[ 8., 10.,  4.],\n",
       "       [ 7.,  2.,  0.]])"
      ]
     },
     "execution_count": 88,
     "metadata": {},
     "output_type": "execute_result"
    }
   ],
   "source": [
    "A"
   ]
  },
  {
   "cell_type": "code",
   "execution_count": 89,
   "id": "7d4ae69f",
   "metadata": {},
   "outputs": [],
   "source": [
    "B = np.round(20*np.random.rand(2,2))"
   ]
  },
  {
   "cell_type": "code",
   "execution_count": 90,
   "id": "b18aa64b",
   "metadata": {},
   "outputs": [
    {
     "data": {
      "text/plain": [
       "array([[17.,  1.],\n",
       "       [12., 10.]])"
      ]
     },
     "execution_count": 90,
     "metadata": {},
     "output_type": "execute_result"
    }
   ],
   "source": [
    "B"
   ]
  },
  {
   "cell_type": "code",
   "execution_count": 95,
   "id": "cc4151b4",
   "metadata": {},
   "outputs": [],
   "source": [
    "C = np.hstack((A,B))"
   ]
  },
  {
   "cell_type": "code",
   "execution_count": 96,
   "id": "d8709aa7",
   "metadata": {},
   "outputs": [
    {
     "data": {
      "text/plain": [
       "array([[ 8., 10.,  4., 17.,  1.],\n",
       "       [ 7.,  2.,  0., 12., 10.]])"
      ]
     },
     "execution_count": 96,
     "metadata": {},
     "output_type": "execute_result"
    }
   ],
   "source": [
    "C"
   ]
  },
  {
   "cell_type": "code",
   "execution_count": 99,
   "id": "5613ffa1",
   "metadata": {},
   "outputs": [],
   "source": [
    "D = np.round(30*np.random.rand(5))"
   ]
  },
  {
   "cell_type": "code",
   "execution_count": 100,
   "id": "fc95fa72",
   "metadata": {},
   "outputs": [
    {
     "data": {
      "text/plain": [
       "array([28., 19., 20., 24., 13.])"
      ]
     },
     "execution_count": 100,
     "metadata": {},
     "output_type": "execute_result"
    }
   ],
   "source": [
    "D"
   ]
  },
  {
   "cell_type": "code",
   "execution_count": 101,
   "id": "43b6eb0c",
   "metadata": {},
   "outputs": [],
   "source": [
    "E = np.vstack((C,D))"
   ]
  },
  {
   "cell_type": "code",
   "execution_count": 102,
   "id": "4004d1f2",
   "metadata": {},
   "outputs": [
    {
     "data": {
      "text/plain": [
       "array([[ 8., 10.,  4., 17.,  1.],\n",
       "       [ 7.,  2.,  0., 12., 10.],\n",
       "       [28., 19., 20., 24., 13.]])"
      ]
     },
     "execution_count": 102,
     "metadata": {},
     "output_type": "execute_result"
    }
   ],
   "source": [
    "E"
   ]
  },
  {
   "cell_type": "code",
   "execution_count": 103,
   "id": "3c8e5b3c",
   "metadata": {},
   "outputs": [],
   "source": [
    "# speed:ufuncs"
   ]
  },
  {
   "cell_type": "code",
   "execution_count": 104,
   "id": "b633da04",
   "metadata": {},
   "outputs": [],
   "source": [
    "b = np.random.rand(1000000)"
   ]
  },
  {
   "cell_type": "code",
   "execution_count": 105,
   "id": "e465742b",
   "metadata": {},
   "outputs": [
    {
     "name": "stdout",
     "output_type": "stream",
     "text": [
      "69.3 ms ± 2.33 ms per loop (mean ± std. dev. of 7 runs, 10 loops each)\n"
     ]
    }
   ],
   "source": [
    "%timeit sum(b)"
   ]
  },
  {
   "cell_type": "code",
   "execution_count": 106,
   "id": "5ba0fb8b",
   "metadata": {},
   "outputs": [
    {
     "name": "stdout",
     "output_type": "stream",
     "text": [
      "406 µs ± 4.89 µs per loop (mean ± std. dev. of 7 runs, 1000 loops each)\n"
     ]
    }
   ],
   "source": [
    "%timeit np.sum(b) # same as B.sum()"
   ]
  },
  {
   "cell_type": "code",
   "execution_count": 107,
   "id": "61026ae3",
   "metadata": {},
   "outputs": [],
   "source": [
    "# np.sum() is 100 times faster than sum()"
   ]
  },
  {
   "cell_type": "code",
   "execution_count": 108,
   "id": "d9c0ef22",
   "metadata": {},
   "outputs": [],
   "source": [
    "def mySum(G):\n",
    "    s = 0\n",
    "    for x in G:\n",
    "        s+=x\n",
    "    return s"
   ]
  },
  {
   "cell_type": "code",
   "execution_count": 109,
   "id": "a88cb69a",
   "metadata": {},
   "outputs": [
    {
     "name": "stdout",
     "output_type": "stream",
     "text": [
      "81.4 ms ± 346 µs per loop (mean ± std. dev. of 7 runs, 10 loops each)\n"
     ]
    }
   ],
   "source": [
    "%timeit mySum(b)"
   ]
  },
  {
   "cell_type": "markdown",
   "id": "d3a3d7e1",
   "metadata": {},
   "source": [
    "# Pandas"
   ]
  },
  {
   "cell_type": "code",
   "execution_count": 113,
   "id": "07dda568",
   "metadata": {},
   "outputs": [],
   "source": [
    "import pandas as pd"
   ]
  },
  {
   "cell_type": "code",
   "execution_count": 115,
   "id": "b09ba2a6",
   "metadata": {},
   "outputs": [
    {
     "name": "stdout",
     "output_type": "stream",
     "text": [
      "<module 'pandas._version' from '/Users/yuanni/opt/anaconda3/lib/python3.8/site-packages/pandas/_version.py'>\n"
     ]
    }
   ],
   "source": [
    "print(pd._version)"
   ]
  },
  {
   "cell_type": "code",
   "execution_count": 116,
   "id": "734e3143",
   "metadata": {},
   "outputs": [
    {
     "data": {
      "text/plain": [
       "'1.2.4'"
      ]
     },
     "execution_count": 116,
     "metadata": {},
     "output_type": "execute_result"
    }
   ],
   "source": [
    "pd.__version__"
   ]
  },
  {
   "cell_type": "code",
   "execution_count": 117,
   "id": "a061c65e",
   "metadata": {},
   "outputs": [],
   "source": [
    "A = pd.Series([2,3,4,5],index = ['a','b','c','d'])"
   ]
  },
  {
   "cell_type": "code",
   "execution_count": 118,
   "id": "6fd14d50",
   "metadata": {},
   "outputs": [
    {
     "data": {
      "text/plain": [
       "array([2, 3, 4, 5])"
      ]
     },
     "execution_count": 118,
     "metadata": {},
     "output_type": "execute_result"
    }
   ],
   "source": [
    "A.values"
   ]
  },
  {
   "cell_type": "code",
   "execution_count": 120,
   "id": "b936ad9c",
   "metadata": {},
   "outputs": [
    {
     "data": {
      "text/plain": [
       "numpy.ndarray"
      ]
     },
     "execution_count": 120,
     "metadata": {},
     "output_type": "execute_result"
    }
   ],
   "source": [
    "type(A.values) # numpy array"
   ]
  },
  {
   "cell_type": "code",
   "execution_count": 121,
   "id": "a8e1cbd3",
   "metadata": {},
   "outputs": [
    {
     "data": {
      "text/plain": [
       "pandas.core.series.Series"
      ]
     },
     "execution_count": 121,
     "metadata": {},
     "output_type": "execute_result"
    }
   ],
   "source": [
    "type(A) # pandas"
   ]
  },
  {
   "cell_type": "code",
   "execution_count": 122,
   "id": "6fdcf3e8",
   "metadata": {},
   "outputs": [
    {
     "data": {
      "text/plain": [
       "Index(['a', 'b', 'c', 'd'], dtype='object')"
      ]
     },
     "execution_count": 122,
     "metadata": {},
     "output_type": "execute_result"
    }
   ],
   "source": [
    "A.index"
   ]
  },
  {
   "cell_type": "code",
   "execution_count": 123,
   "id": "a84c2519",
   "metadata": {},
   "outputs": [
    {
     "data": {
      "text/plain": [
       "2"
      ]
     },
     "execution_count": 123,
     "metadata": {},
     "output_type": "execute_result"
    }
   ],
   "source": [
    "A['a']"
   ]
  },
  {
   "cell_type": "code",
   "execution_count": 124,
   "id": "64e7440e",
   "metadata": {},
   "outputs": [
    {
     "data": {
      "text/plain": [
       "a    2\n",
       "b    3\n",
       "c    4\n",
       "dtype: int64"
      ]
     },
     "execution_count": 124,
     "metadata": {},
     "output_type": "execute_result"
    }
   ],
   "source": [
    "A['a':'c'] # slicing using index"
   ]
  },
  {
   "cell_type": "code",
   "execution_count": 125,
   "id": "6cc488a6",
   "metadata": {},
   "outputs": [],
   "source": [
    "# Series"
   ]
  },
  {
   "cell_type": "code",
   "execution_count": 126,
   "id": "5bde5010",
   "metadata": {},
   "outputs": [],
   "source": [
    "grade_dict = {'A':4,'A-':3.5,'B':3,'B-':2.5,'B':2}\n",
    "grades = pd.Series(grade_dict)"
   ]
  },
  {
   "cell_type": "code",
   "execution_count": 127,
   "id": "08c6c775",
   "metadata": {},
   "outputs": [
    {
     "data": {
      "text/plain": [
       "array([4. , 3.5, 2. , 2.5])"
      ]
     },
     "execution_count": 127,
     "metadata": {},
     "output_type": "execute_result"
    }
   ],
   "source": [
    "grades.values"
   ]
  },
  {
   "cell_type": "code",
   "execution_count": 128,
   "id": "d2b48c75",
   "metadata": {},
   "outputs": [],
   "source": [
    "marks_dict = {'A':85,'B':75,'C':65,'D':55}\n",
    "marks = pd.Series(marks_dict)"
   ]
  },
  {
   "cell_type": "code",
   "execution_count": 129,
   "id": "513eab99",
   "metadata": {},
   "outputs": [
    {
     "data": {
      "text/plain": [
       "A    85\n",
       "B    75\n",
       "C    65\n",
       "D    55\n",
       "dtype: int64"
      ]
     },
     "execution_count": 129,
     "metadata": {},
     "output_type": "execute_result"
    }
   ],
   "source": [
    "marks"
   ]
  },
  {
   "cell_type": "code",
   "execution_count": 130,
   "id": "6ee48f4a",
   "metadata": {},
   "outputs": [
    {
     "data": {
      "text/plain": [
       "85"
      ]
     },
     "execution_count": 130,
     "metadata": {},
     "output_type": "execute_result"
    }
   ],
   "source": [
    "marks['A']"
   ]
  },
  {
   "cell_type": "code",
   "execution_count": 131,
   "id": "7e4c3938",
   "metadata": {},
   "outputs": [
    {
     "data": {
      "text/plain": [
       "A    85\n",
       "B    75\n",
       "dtype: int64"
      ]
     },
     "execution_count": 131,
     "metadata": {},
     "output_type": "execute_result"
    }
   ],
   "source": [
    "marks[:2]"
   ]
  },
  {
   "cell_type": "code",
   "execution_count": 132,
   "id": "4126981e",
   "metadata": {},
   "outputs": [
    {
     "data": {
      "text/plain": [
       "pandas.core.series.Series"
      ]
     },
     "execution_count": 132,
     "metadata": {},
     "output_type": "execute_result"
    }
   ],
   "source": [
    "type(marks)"
   ]
  },
  {
   "cell_type": "code",
   "execution_count": 133,
   "id": "18728392",
   "metadata": {},
   "outputs": [
    {
     "data": {
      "text/plain": [
       "A     4.0\n",
       "A-    3.5\n",
       "B     2.0\n",
       "B-    2.5\n",
       "dtype: float64"
      ]
     },
     "execution_count": 133,
     "metadata": {},
     "output_type": "execute_result"
    }
   ],
   "source": [
    "grades # 'B' has been overwritten"
   ]
  },
  {
   "cell_type": "code",
   "execution_count": 134,
   "id": "286f14d3",
   "metadata": {},
   "outputs": [],
   "source": [
    "# DataFrame"
   ]
  },
  {
   "cell_type": "code",
   "execution_count": 135,
   "id": "20a0583c",
   "metadata": {},
   "outputs": [],
   "source": [
    "D = pd.DataFrame({'Marks':marks,'Grades':grades})"
   ]
  },
  {
   "cell_type": "code",
   "execution_count": 136,
   "id": "db769f56",
   "metadata": {},
   "outputs": [
    {
     "data": {
      "text/html": [
       "<div>\n",
       "<style scoped>\n",
       "    .dataframe tbody tr th:only-of-type {\n",
       "        vertical-align: middle;\n",
       "    }\n",
       "\n",
       "    .dataframe tbody tr th {\n",
       "        vertical-align: top;\n",
       "    }\n",
       "\n",
       "    .dataframe thead th {\n",
       "        text-align: right;\n",
       "    }\n",
       "</style>\n",
       "<table border=\"1\" class=\"dataframe\">\n",
       "  <thead>\n",
       "    <tr style=\"text-align: right;\">\n",
       "      <th></th>\n",
       "      <th>Marks</th>\n",
       "      <th>Grades</th>\n",
       "    </tr>\n",
       "  </thead>\n",
       "  <tbody>\n",
       "    <tr>\n",
       "      <th>A</th>\n",
       "      <td>85.0</td>\n",
       "      <td>4.0</td>\n",
       "    </tr>\n",
       "    <tr>\n",
       "      <th>A-</th>\n",
       "      <td>NaN</td>\n",
       "      <td>3.5</td>\n",
       "    </tr>\n",
       "    <tr>\n",
       "      <th>B</th>\n",
       "      <td>75.0</td>\n",
       "      <td>2.0</td>\n",
       "    </tr>\n",
       "    <tr>\n",
       "      <th>B-</th>\n",
       "      <td>NaN</td>\n",
       "      <td>2.5</td>\n",
       "    </tr>\n",
       "    <tr>\n",
       "      <th>C</th>\n",
       "      <td>65.0</td>\n",
       "      <td>NaN</td>\n",
       "    </tr>\n",
       "    <tr>\n",
       "      <th>D</th>\n",
       "      <td>55.0</td>\n",
       "      <td>NaN</td>\n",
       "    </tr>\n",
       "  </tbody>\n",
       "</table>\n",
       "</div>"
      ],
      "text/plain": [
       "    Marks  Grades\n",
       "A    85.0     4.0\n",
       "A-    NaN     3.5\n",
       "B    75.0     2.0\n",
       "B-    NaN     2.5\n",
       "C    65.0     NaN\n",
       "D    55.0     NaN"
      ]
     },
     "execution_count": 136,
     "metadata": {},
     "output_type": "execute_result"
    }
   ],
   "source": [
    "D"
   ]
  },
  {
   "cell_type": "code",
   "execution_count": 137,
   "id": "739cfaa2",
   "metadata": {},
   "outputs": [
    {
     "data": {
      "text/html": [
       "<div>\n",
       "<style scoped>\n",
       "    .dataframe tbody tr th:only-of-type {\n",
       "        vertical-align: middle;\n",
       "    }\n",
       "\n",
       "    .dataframe tbody tr th {\n",
       "        vertical-align: top;\n",
       "    }\n",
       "\n",
       "    .dataframe thead th {\n",
       "        text-align: right;\n",
       "    }\n",
       "</style>\n",
       "<table border=\"1\" class=\"dataframe\">\n",
       "  <thead>\n",
       "    <tr style=\"text-align: right;\">\n",
       "      <th></th>\n",
       "      <th>A</th>\n",
       "      <th>A-</th>\n",
       "      <th>B</th>\n",
       "      <th>B-</th>\n",
       "      <th>C</th>\n",
       "      <th>D</th>\n",
       "    </tr>\n",
       "  </thead>\n",
       "  <tbody>\n",
       "    <tr>\n",
       "      <th>Marks</th>\n",
       "      <td>85.0</td>\n",
       "      <td>NaN</td>\n",
       "      <td>75.0</td>\n",
       "      <td>NaN</td>\n",
       "      <td>65.0</td>\n",
       "      <td>55.0</td>\n",
       "    </tr>\n",
       "    <tr>\n",
       "      <th>Grades</th>\n",
       "      <td>4.0</td>\n",
       "      <td>3.5</td>\n",
       "      <td>2.0</td>\n",
       "      <td>2.5</td>\n",
       "      <td>NaN</td>\n",
       "      <td>NaN</td>\n",
       "    </tr>\n",
       "  </tbody>\n",
       "</table>\n",
       "</div>"
      ],
      "text/plain": [
       "           A   A-     B   B-     C     D\n",
       "Marks   85.0  NaN  75.0  NaN  65.0  55.0\n",
       "Grades   4.0  3.5   2.0  2.5   NaN   NaN"
      ]
     },
     "execution_count": 137,
     "metadata": {},
     "output_type": "execute_result"
    }
   ],
   "source": [
    "D.T"
   ]
  },
  {
   "cell_type": "code",
   "execution_count": 138,
   "id": "2c143aa2",
   "metadata": {},
   "outputs": [
    {
     "data": {
      "text/plain": [
       "array([[85. ,  4. ],\n",
       "       [ nan,  3.5],\n",
       "       [75. ,  2. ],\n",
       "       [ nan,  2.5],\n",
       "       [65. ,  nan],\n",
       "       [55. ,  nan]])"
      ]
     },
     "execution_count": 138,
     "metadata": {},
     "output_type": "execute_result"
    }
   ],
   "source": [
    "D.values"
   ]
  },
  {
   "cell_type": "code",
   "execution_count": 139,
   "id": "02a6b718",
   "metadata": {},
   "outputs": [
    {
     "data": {
      "text/plain": [
       "3.5"
      ]
     },
     "execution_count": 139,
     "metadata": {},
     "output_type": "execute_result"
    }
   ],
   "source": [
    "D.values[1,1]"
   ]
  },
  {
   "cell_type": "code",
   "execution_count": 140,
   "id": "22223a1c",
   "metadata": {},
   "outputs": [
    {
     "data": {
      "text/plain": [
       "Index(['Marks', 'Grades'], dtype='object')"
      ]
     },
     "execution_count": 140,
     "metadata": {},
     "output_type": "execute_result"
    }
   ],
   "source": [
    "D.columns"
   ]
  },
  {
   "cell_type": "code",
   "execution_count": 141,
   "id": "44f89712",
   "metadata": {},
   "outputs": [
    {
     "data": {
      "text/html": [
       "<div>\n",
       "<style scoped>\n",
       "    .dataframe tbody tr th:only-of-type {\n",
       "        vertical-align: middle;\n",
       "    }\n",
       "\n",
       "    .dataframe tbody tr th {\n",
       "        vertical-align: top;\n",
       "    }\n",
       "\n",
       "    .dataframe thead th {\n",
       "        text-align: right;\n",
       "    }\n",
       "</style>\n",
       "<table border=\"1\" class=\"dataframe\">\n",
       "  <thead>\n",
       "    <tr style=\"text-align: right;\">\n",
       "      <th></th>\n",
       "      <th>Marks</th>\n",
       "      <th>Grades</th>\n",
       "    </tr>\n",
       "  </thead>\n",
       "  <tbody>\n",
       "    <tr>\n",
       "      <th>A</th>\n",
       "      <td>85.0</td>\n",
       "      <td>4.0</td>\n",
       "    </tr>\n",
       "    <tr>\n",
       "      <th>A-</th>\n",
       "      <td>NaN</td>\n",
       "      <td>3.5</td>\n",
       "    </tr>\n",
       "    <tr>\n",
       "      <th>B</th>\n",
       "      <td>75.0</td>\n",
       "      <td>2.0</td>\n",
       "    </tr>\n",
       "    <tr>\n",
       "      <th>B-</th>\n",
       "      <td>NaN</td>\n",
       "      <td>2.5</td>\n",
       "    </tr>\n",
       "    <tr>\n",
       "      <th>C</th>\n",
       "      <td>65.0</td>\n",
       "      <td>NaN</td>\n",
       "    </tr>\n",
       "    <tr>\n",
       "      <th>D</th>\n",
       "      <td>55.0</td>\n",
       "      <td>NaN</td>\n",
       "    </tr>\n",
       "  </tbody>\n",
       "</table>\n",
       "</div>"
      ],
      "text/plain": [
       "    Marks  Grades\n",
       "A    85.0     4.0\n",
       "A-    NaN     3.5\n",
       "B    75.0     2.0\n",
       "B-    NaN     2.5\n",
       "C    65.0     NaN\n",
       "D    55.0     NaN"
      ]
     },
     "execution_count": 141,
     "metadata": {},
     "output_type": "execute_result"
    }
   ],
   "source": [
    "D"
   ]
  },
  {
   "cell_type": "code",
   "execution_count": 142,
   "id": "6462b94e",
   "metadata": {},
   "outputs": [],
   "source": [
    "D['ScaledMarks'] = D['Marks']*1.5"
   ]
  },
  {
   "cell_type": "code",
   "execution_count": 143,
   "id": "ce23f36d",
   "metadata": {},
   "outputs": [
    {
     "data": {
      "text/html": [
       "<div>\n",
       "<style scoped>\n",
       "    .dataframe tbody tr th:only-of-type {\n",
       "        vertical-align: middle;\n",
       "    }\n",
       "\n",
       "    .dataframe tbody tr th {\n",
       "        vertical-align: top;\n",
       "    }\n",
       "\n",
       "    .dataframe thead th {\n",
       "        text-align: right;\n",
       "    }\n",
       "</style>\n",
       "<table border=\"1\" class=\"dataframe\">\n",
       "  <thead>\n",
       "    <tr style=\"text-align: right;\">\n",
       "      <th></th>\n",
       "      <th>Marks</th>\n",
       "      <th>Grades</th>\n",
       "      <th>ScaledMarks</th>\n",
       "    </tr>\n",
       "  </thead>\n",
       "  <tbody>\n",
       "    <tr>\n",
       "      <th>A</th>\n",
       "      <td>85.0</td>\n",
       "      <td>4.0</td>\n",
       "      <td>127.5</td>\n",
       "    </tr>\n",
       "    <tr>\n",
       "      <th>A-</th>\n",
       "      <td>NaN</td>\n",
       "      <td>3.5</td>\n",
       "      <td>NaN</td>\n",
       "    </tr>\n",
       "    <tr>\n",
       "      <th>B</th>\n",
       "      <td>75.0</td>\n",
       "      <td>2.0</td>\n",
       "      <td>112.5</td>\n",
       "    </tr>\n",
       "    <tr>\n",
       "      <th>B-</th>\n",
       "      <td>NaN</td>\n",
       "      <td>2.5</td>\n",
       "      <td>NaN</td>\n",
       "    </tr>\n",
       "    <tr>\n",
       "      <th>C</th>\n",
       "      <td>65.0</td>\n",
       "      <td>NaN</td>\n",
       "      <td>97.5</td>\n",
       "    </tr>\n",
       "    <tr>\n",
       "      <th>D</th>\n",
       "      <td>55.0</td>\n",
       "      <td>NaN</td>\n",
       "      <td>82.5</td>\n",
       "    </tr>\n",
       "  </tbody>\n",
       "</table>\n",
       "</div>"
      ],
      "text/plain": [
       "    Marks  Grades  ScaledMarks\n",
       "A    85.0     4.0        127.5\n",
       "A-    NaN     3.5          NaN\n",
       "B    75.0     2.0        112.5\n",
       "B-    NaN     2.5          NaN\n",
       "C    65.0     NaN         97.5\n",
       "D    55.0     NaN         82.5"
      ]
     },
     "execution_count": 143,
     "metadata": {},
     "output_type": "execute_result"
    }
   ],
   "source": [
    "D"
   ]
  },
  {
   "cell_type": "code",
   "execution_count": 144,
   "id": "bba2e34e",
   "metadata": {},
   "outputs": [],
   "source": [
    "del D['ScaledMarks']"
   ]
  },
  {
   "cell_type": "code",
   "execution_count": 145,
   "id": "3cd34f74",
   "metadata": {},
   "outputs": [
    {
     "data": {
      "text/html": [
       "<div>\n",
       "<style scoped>\n",
       "    .dataframe tbody tr th:only-of-type {\n",
       "        vertical-align: middle;\n",
       "    }\n",
       "\n",
       "    .dataframe tbody tr th {\n",
       "        vertical-align: top;\n",
       "    }\n",
       "\n",
       "    .dataframe thead th {\n",
       "        text-align: right;\n",
       "    }\n",
       "</style>\n",
       "<table border=\"1\" class=\"dataframe\">\n",
       "  <thead>\n",
       "    <tr style=\"text-align: right;\">\n",
       "      <th></th>\n",
       "      <th>Marks</th>\n",
       "      <th>Grades</th>\n",
       "    </tr>\n",
       "  </thead>\n",
       "  <tbody>\n",
       "    <tr>\n",
       "      <th>A</th>\n",
       "      <td>85.0</td>\n",
       "      <td>4.0</td>\n",
       "    </tr>\n",
       "    <tr>\n",
       "      <th>A-</th>\n",
       "      <td>NaN</td>\n",
       "      <td>3.5</td>\n",
       "    </tr>\n",
       "    <tr>\n",
       "      <th>B</th>\n",
       "      <td>75.0</td>\n",
       "      <td>2.0</td>\n",
       "    </tr>\n",
       "    <tr>\n",
       "      <th>B-</th>\n",
       "      <td>NaN</td>\n",
       "      <td>2.5</td>\n",
       "    </tr>\n",
       "    <tr>\n",
       "      <th>C</th>\n",
       "      <td>65.0</td>\n",
       "      <td>NaN</td>\n",
       "    </tr>\n",
       "    <tr>\n",
       "      <th>D</th>\n",
       "      <td>55.0</td>\n",
       "      <td>NaN</td>\n",
       "    </tr>\n",
       "  </tbody>\n",
       "</table>\n",
       "</div>"
      ],
      "text/plain": [
       "    Marks  Grades\n",
       "A    85.0     4.0\n",
       "A-    NaN     3.5\n",
       "B    75.0     2.0\n",
       "B-    NaN     2.5\n",
       "C    65.0     NaN\n",
       "D    55.0     NaN"
      ]
     },
     "execution_count": 145,
     "metadata": {},
     "output_type": "execute_result"
    }
   ],
   "source": [
    "D"
   ]
  },
  {
   "cell_type": "code",
   "execution_count": 146,
   "id": "d457ef4e",
   "metadata": {},
   "outputs": [],
   "source": [
    "G = D[D['Marks']>70]"
   ]
  },
  {
   "cell_type": "code",
   "execution_count": 147,
   "id": "a8796651",
   "metadata": {},
   "outputs": [
    {
     "data": {
      "text/html": [
       "<div>\n",
       "<style scoped>\n",
       "    .dataframe tbody tr th:only-of-type {\n",
       "        vertical-align: middle;\n",
       "    }\n",
       "\n",
       "    .dataframe tbody tr th {\n",
       "        vertical-align: top;\n",
       "    }\n",
       "\n",
       "    .dataframe thead th {\n",
       "        text-align: right;\n",
       "    }\n",
       "</style>\n",
       "<table border=\"1\" class=\"dataframe\">\n",
       "  <thead>\n",
       "    <tr style=\"text-align: right;\">\n",
       "      <th></th>\n",
       "      <th>Marks</th>\n",
       "      <th>Grades</th>\n",
       "    </tr>\n",
       "  </thead>\n",
       "  <tbody>\n",
       "    <tr>\n",
       "      <th>A</th>\n",
       "      <td>85.0</td>\n",
       "      <td>4.0</td>\n",
       "    </tr>\n",
       "    <tr>\n",
       "      <th>B</th>\n",
       "      <td>75.0</td>\n",
       "      <td>2.0</td>\n",
       "    </tr>\n",
       "  </tbody>\n",
       "</table>\n",
       "</div>"
      ],
      "text/plain": [
       "   Marks  Grades\n",
       "A   85.0     4.0\n",
       "B   75.0     2.0"
      ]
     },
     "execution_count": 147,
     "metadata": {},
     "output_type": "execute_result"
    }
   ],
   "source": [
    "G"
   ]
  },
  {
   "cell_type": "code",
   "execution_count": 149,
   "id": "74c27c1a",
   "metadata": {},
   "outputs": [
    {
     "data": {
      "text/plain": [
       "nan"
      ]
     },
     "execution_count": 149,
     "metadata": {},
     "output_type": "execute_result"
    }
   ],
   "source": [
    "D.values[1,0]"
   ]
  },
  {
   "cell_type": "code",
   "execution_count": 150,
   "id": "67c921a8",
   "metadata": {},
   "outputs": [
    {
     "data": {
      "text/plain": [
       "numpy.float64"
      ]
     },
     "execution_count": 150,
     "metadata": {},
     "output_type": "execute_result"
    }
   ],
   "source": [
    "type(D.values[1,0])"
   ]
  },
  {
   "cell_type": "code",
   "execution_count": 151,
   "id": "48a3f695",
   "metadata": {},
   "outputs": [],
   "source": [
    "# NaN is float64?"
   ]
  },
  {
   "cell_type": "code",
   "execution_count": 152,
   "id": "c072f5d1",
   "metadata": {},
   "outputs": [],
   "source": [
    "A = pd.DataFrame([{'a':1,'b':4},{'b':-3,'c':9}])"
   ]
  },
  {
   "cell_type": "code",
   "execution_count": 153,
   "id": "5e223be4",
   "metadata": {},
   "outputs": [
    {
     "data": {
      "text/html": [
       "<div>\n",
       "<style scoped>\n",
       "    .dataframe tbody tr th:only-of-type {\n",
       "        vertical-align: middle;\n",
       "    }\n",
       "\n",
       "    .dataframe tbody tr th {\n",
       "        vertical-align: top;\n",
       "    }\n",
       "\n",
       "    .dataframe thead th {\n",
       "        text-align: right;\n",
       "    }\n",
       "</style>\n",
       "<table border=\"1\" class=\"dataframe\">\n",
       "  <thead>\n",
       "    <tr style=\"text-align: right;\">\n",
       "      <th></th>\n",
       "      <th>a</th>\n",
       "      <th>b</th>\n",
       "      <th>c</th>\n",
       "    </tr>\n",
       "  </thead>\n",
       "  <tbody>\n",
       "    <tr>\n",
       "      <th>0</th>\n",
       "      <td>1.0</td>\n",
       "      <td>4</td>\n",
       "      <td>NaN</td>\n",
       "    </tr>\n",
       "    <tr>\n",
       "      <th>1</th>\n",
       "      <td>NaN</td>\n",
       "      <td>-3</td>\n",
       "      <td>9.0</td>\n",
       "    </tr>\n",
       "  </tbody>\n",
       "</table>\n",
       "</div>"
      ],
      "text/plain": [
       "     a  b    c\n",
       "0  1.0  4  NaN\n",
       "1  NaN -3  9.0"
      ]
     },
     "execution_count": 153,
     "metadata": {},
     "output_type": "execute_result"
    }
   ],
   "source": [
    "A"
   ]
  },
  {
   "cell_type": "code",
   "execution_count": 154,
   "id": "fb5e8e6f",
   "metadata": {},
   "outputs": [
    {
     "data": {
      "text/html": [
       "<div>\n",
       "<style scoped>\n",
       "    .dataframe tbody tr th:only-of-type {\n",
       "        vertical-align: middle;\n",
       "    }\n",
       "\n",
       "    .dataframe tbody tr th {\n",
       "        vertical-align: top;\n",
       "    }\n",
       "\n",
       "    .dataframe thead th {\n",
       "        text-align: right;\n",
       "    }\n",
       "</style>\n",
       "<table border=\"1\" class=\"dataframe\">\n",
       "  <thead>\n",
       "    <tr style=\"text-align: right;\">\n",
       "      <th></th>\n",
       "      <th>a</th>\n",
       "      <th>b</th>\n",
       "      <th>c</th>\n",
       "    </tr>\n",
       "  </thead>\n",
       "  <tbody>\n",
       "    <tr>\n",
       "      <th>0</th>\n",
       "      <td>1.0</td>\n",
       "      <td>4</td>\n",
       "      <td>0.0</td>\n",
       "    </tr>\n",
       "    <tr>\n",
       "      <th>1</th>\n",
       "      <td>0.0</td>\n",
       "      <td>-3</td>\n",
       "      <td>9.0</td>\n",
       "    </tr>\n",
       "  </tbody>\n",
       "</table>\n",
       "</div>"
      ],
      "text/plain": [
       "     a  b    c\n",
       "0  1.0  4  0.0\n",
       "1  0.0 -3  9.0"
      ]
     },
     "execution_count": 154,
     "metadata": {},
     "output_type": "execute_result"
    }
   ],
   "source": [
    "A.fillna(0) # fill nan with 0"
   ]
  },
  {
   "cell_type": "code",
   "execution_count": 159,
   "id": "ab60e83d",
   "metadata": {},
   "outputs": [
    {
     "data": {
      "text/plain": [
       "<bound method DataFrame.dropna of      a  b    c\n",
       "0  1.0  4  NaN\n",
       "1  NaN -3  9.0>"
      ]
     },
     "execution_count": 159,
     "metadata": {},
     "output_type": "execute_result"
    }
   ],
   "source": [
    "A.dropna"
   ]
  },
  {
   "cell_type": "code",
   "execution_count": 160,
   "id": "5359a4fb",
   "metadata": {},
   "outputs": [],
   "source": [
    "A = pd.Series(['a','b','c'],index = [1,3,5])"
   ]
  },
  {
   "cell_type": "code",
   "execution_count": 161,
   "id": "bb33249a",
   "metadata": {},
   "outputs": [
    {
     "data": {
      "text/plain": [
       "'a'"
      ]
     },
     "execution_count": 161,
     "metadata": {},
     "output_type": "execute_result"
    }
   ],
   "source": [
    "A[1] # explicit index, or loc"
   ]
  },
  {
   "cell_type": "code",
   "execution_count": 163,
   "id": "28aeffa7",
   "metadata": {},
   "outputs": [
    {
     "data": {
      "text/plain": [
       "3    b\n",
       "5    c\n",
       "dtype: object"
      ]
     },
     "execution_count": 163,
     "metadata": {},
     "output_type": "execute_result"
    }
   ],
   "source": [
    "A[1:3] # implict index, or iloc"
   ]
  },
  {
   "cell_type": "code",
   "execution_count": 164,
   "id": "70308676",
   "metadata": {},
   "outputs": [
    {
     "data": {
      "text/plain": [
       "1    a\n",
       "3    b\n",
       "dtype: object"
      ]
     },
     "execution_count": 164,
     "metadata": {},
     "output_type": "execute_result"
    }
   ],
   "source": [
    "A.loc[1:3] # explicit index"
   ]
  },
  {
   "cell_type": "code",
   "execution_count": 165,
   "id": "067dcd88",
   "metadata": {},
   "outputs": [
    {
     "data": {
      "text/plain": [
       "3    b\n",
       "5    c\n",
       "dtype: object"
      ]
     },
     "execution_count": 165,
     "metadata": {},
     "output_type": "execute_result"
    }
   ],
   "source": [
    "A.iloc[1:3] # implict index "
   ]
  },
  {
   "cell_type": "code",
   "execution_count": 166,
   "id": "9f294f36",
   "metadata": {},
   "outputs": [
    {
     "data": {
      "text/html": [
       "<div>\n",
       "<style scoped>\n",
       "    .dataframe tbody tr th:only-of-type {\n",
       "        vertical-align: middle;\n",
       "    }\n",
       "\n",
       "    .dataframe tbody tr th {\n",
       "        vertical-align: top;\n",
       "    }\n",
       "\n",
       "    .dataframe thead th {\n",
       "        text-align: right;\n",
       "    }\n",
       "</style>\n",
       "<table border=\"1\" class=\"dataframe\">\n",
       "  <thead>\n",
       "    <tr style=\"text-align: right;\">\n",
       "      <th></th>\n",
       "      <th>Marks</th>\n",
       "      <th>Grades</th>\n",
       "    </tr>\n",
       "  </thead>\n",
       "  <tbody>\n",
       "    <tr>\n",
       "      <th>A</th>\n",
       "      <td>85.0</td>\n",
       "      <td>4.0</td>\n",
       "    </tr>\n",
       "    <tr>\n",
       "      <th>A-</th>\n",
       "      <td>NaN</td>\n",
       "      <td>3.5</td>\n",
       "    </tr>\n",
       "    <tr>\n",
       "      <th>B</th>\n",
       "      <td>75.0</td>\n",
       "      <td>2.0</td>\n",
       "    </tr>\n",
       "    <tr>\n",
       "      <th>B-</th>\n",
       "      <td>NaN</td>\n",
       "      <td>2.5</td>\n",
       "    </tr>\n",
       "    <tr>\n",
       "      <th>C</th>\n",
       "      <td>65.0</td>\n",
       "      <td>NaN</td>\n",
       "    </tr>\n",
       "    <tr>\n",
       "      <th>D</th>\n",
       "      <td>55.0</td>\n",
       "      <td>NaN</td>\n",
       "    </tr>\n",
       "  </tbody>\n",
       "</table>\n",
       "</div>"
      ],
      "text/plain": [
       "    Marks  Grades\n",
       "A    85.0     4.0\n",
       "A-    NaN     3.5\n",
       "B    75.0     2.0\n",
       "B-    NaN     2.5\n",
       "C    65.0     NaN\n",
       "D    55.0     NaN"
      ]
     },
     "execution_count": 166,
     "metadata": {},
     "output_type": "execute_result"
    }
   ],
   "source": [
    "D"
   ]
  },
  {
   "cell_type": "code",
   "execution_count": 168,
   "id": "c512cc7c",
   "metadata": {},
   "outputs": [
    {
     "data": {
      "text/plain": [
       "Marks     75.0\n",
       "Grades     2.0\n",
       "Name: B, dtype: float64"
      ]
     },
     "execution_count": 168,
     "metadata": {},
     "output_type": "execute_result"
    }
   ],
   "source": [
    "D.iloc[2,:]"
   ]
  },
  {
   "cell_type": "code",
   "execution_count": 169,
   "id": "8ac3cef9",
   "metadata": {},
   "outputs": [
    {
     "data": {
      "text/plain": [
       "Marks     85.0\n",
       "Grades     4.0\n",
       "Name: A, dtype: float64"
      ]
     },
     "execution_count": 169,
     "metadata": {},
     "output_type": "execute_result"
    }
   ],
   "source": [
    "D.loc['A']"
   ]
  },
  {
   "cell_type": "code",
   "execution_count": 170,
   "id": "da23046a",
   "metadata": {},
   "outputs": [
    {
     "ename": "TypeError",
     "evalue": "Cannot index by location index with a non-integer key",
     "output_type": "error",
     "traceback": [
      "\u001b[0;31m---------------------------------------------------------------------------\u001b[0m",
      "\u001b[0;31mTypeError\u001b[0m                                 Traceback (most recent call last)",
      "\u001b[0;32m<ipython-input-170-9b3302e48120>\u001b[0m in \u001b[0;36m<module>\u001b[0;34m\u001b[0m\n\u001b[0;32m----> 1\u001b[0;31m \u001b[0mD\u001b[0m\u001b[0;34m.\u001b[0m\u001b[0miloc\u001b[0m\u001b[0;34m[\u001b[0m\u001b[0;34m'A'\u001b[0m\u001b[0;34m]\u001b[0m\u001b[0;34m\u001b[0m\u001b[0;34m\u001b[0m\u001b[0m\n\u001b[0m",
      "\u001b[0;32m~/opt/anaconda3/lib/python3.8/site-packages/pandas/core/indexing.py\u001b[0m in \u001b[0;36m__getitem__\u001b[0;34m(self, key)\u001b[0m\n\u001b[1;32m    893\u001b[0m \u001b[0;34m\u001b[0m\u001b[0m\n\u001b[1;32m    894\u001b[0m             \u001b[0mmaybe_callable\u001b[0m \u001b[0;34m=\u001b[0m \u001b[0mcom\u001b[0m\u001b[0;34m.\u001b[0m\u001b[0mapply_if_callable\u001b[0m\u001b[0;34m(\u001b[0m\u001b[0mkey\u001b[0m\u001b[0;34m,\u001b[0m \u001b[0mself\u001b[0m\u001b[0;34m.\u001b[0m\u001b[0mobj\u001b[0m\u001b[0;34m)\u001b[0m\u001b[0;34m\u001b[0m\u001b[0;34m\u001b[0m\u001b[0m\n\u001b[0;32m--> 895\u001b[0;31m             \u001b[0;32mreturn\u001b[0m \u001b[0mself\u001b[0m\u001b[0;34m.\u001b[0m\u001b[0m_getitem_axis\u001b[0m\u001b[0;34m(\u001b[0m\u001b[0mmaybe_callable\u001b[0m\u001b[0;34m,\u001b[0m \u001b[0maxis\u001b[0m\u001b[0;34m=\u001b[0m\u001b[0maxis\u001b[0m\u001b[0;34m)\u001b[0m\u001b[0;34m\u001b[0m\u001b[0;34m\u001b[0m\u001b[0m\n\u001b[0m\u001b[1;32m    896\u001b[0m \u001b[0;34m\u001b[0m\u001b[0m\n\u001b[1;32m    897\u001b[0m     \u001b[0;32mdef\u001b[0m \u001b[0m_is_scalar_access\u001b[0m\u001b[0;34m(\u001b[0m\u001b[0mself\u001b[0m\u001b[0;34m,\u001b[0m \u001b[0mkey\u001b[0m\u001b[0;34m:\u001b[0m \u001b[0mTuple\u001b[0m\u001b[0;34m)\u001b[0m\u001b[0;34m:\u001b[0m\u001b[0;34m\u001b[0m\u001b[0;34m\u001b[0m\u001b[0m\n",
      "\u001b[0;32m~/opt/anaconda3/lib/python3.8/site-packages/pandas/core/indexing.py\u001b[0m in \u001b[0;36m_getitem_axis\u001b[0;34m(self, key, axis)\u001b[0m\n\u001b[1;32m   1496\u001b[0m             \u001b[0mkey\u001b[0m \u001b[0;34m=\u001b[0m \u001b[0mitem_from_zerodim\u001b[0m\u001b[0;34m(\u001b[0m\u001b[0mkey\u001b[0m\u001b[0;34m)\u001b[0m\u001b[0;34m\u001b[0m\u001b[0;34m\u001b[0m\u001b[0m\n\u001b[1;32m   1497\u001b[0m             \u001b[0;32mif\u001b[0m \u001b[0;32mnot\u001b[0m \u001b[0mis_integer\u001b[0m\u001b[0;34m(\u001b[0m\u001b[0mkey\u001b[0m\u001b[0;34m)\u001b[0m\u001b[0;34m:\u001b[0m\u001b[0;34m\u001b[0m\u001b[0;34m\u001b[0m\u001b[0m\n\u001b[0;32m-> 1498\u001b[0;31m                 \u001b[0;32mraise\u001b[0m \u001b[0mTypeError\u001b[0m\u001b[0;34m(\u001b[0m\u001b[0;34m\"Cannot index by location index with a non-integer key\"\u001b[0m\u001b[0;34m)\u001b[0m\u001b[0;34m\u001b[0m\u001b[0;34m\u001b[0m\u001b[0m\n\u001b[0m\u001b[1;32m   1499\u001b[0m \u001b[0;34m\u001b[0m\u001b[0m\n\u001b[1;32m   1500\u001b[0m             \u001b[0;31m# validate the location\u001b[0m\u001b[0;34m\u001b[0m\u001b[0;34m\u001b[0m\u001b[0;34m\u001b[0m\u001b[0m\n",
      "\u001b[0;31mTypeError\u001b[0m: Cannot index by location index with a non-integer key"
     ]
    }
   ],
   "source": [
    "D.iloc['A']"
   ]
  },
  {
   "cell_type": "code",
   "execution_count": 171,
   "id": "086e8d65",
   "metadata": {},
   "outputs": [],
   "source": [
    "# deal with csv files"
   ]
  },
  {
   "cell_type": "code",
   "execution_count": 172,
   "id": "f48bb03e",
   "metadata": {},
   "outputs": [],
   "source": [
    "import pandas as pd\n",
    "import numpy as np\n",
    "from sklearn.impute import SimpleImputer"
   ]
  },
  {
   "cell_type": "code",
   "execution_count": 173,
   "id": "93c85cdb",
   "metadata": {},
   "outputs": [],
   "source": [
    "df = pd.read_csv('/Users/yuanni/Documents/Python/covid_19_data.csv')"
   ]
  },
  {
   "cell_type": "code",
   "execution_count": 174,
   "id": "0fe69ae2",
   "metadata": {},
   "outputs": [
    {
     "data": {
      "text/html": [
       "<div>\n",
       "<style scoped>\n",
       "    .dataframe tbody tr th:only-of-type {\n",
       "        vertical-align: middle;\n",
       "    }\n",
       "\n",
       "    .dataframe tbody tr th {\n",
       "        vertical-align: top;\n",
       "    }\n",
       "\n",
       "    .dataframe thead th {\n",
       "        text-align: right;\n",
       "    }\n",
       "</style>\n",
       "<table border=\"1\" class=\"dataframe\">\n",
       "  <thead>\n",
       "    <tr style=\"text-align: right;\">\n",
       "      <th></th>\n",
       "      <th>SNo</th>\n",
       "      <th>ObservationDate</th>\n",
       "      <th>Province/State</th>\n",
       "      <th>Country/Region</th>\n",
       "      <th>Last Update</th>\n",
       "      <th>Confirmed</th>\n",
       "      <th>Deaths</th>\n",
       "      <th>Recovered</th>\n",
       "    </tr>\n",
       "  </thead>\n",
       "  <tbody>\n",
       "    <tr>\n",
       "      <th>0</th>\n",
       "      <td>1</td>\n",
       "      <td>01/22/2020</td>\n",
       "      <td>Anhui</td>\n",
       "      <td>Mainland China</td>\n",
       "      <td>1/22/2020 17:00</td>\n",
       "      <td>1.0</td>\n",
       "      <td>0.0</td>\n",
       "      <td>0.0</td>\n",
       "    </tr>\n",
       "    <tr>\n",
       "      <th>1</th>\n",
       "      <td>2</td>\n",
       "      <td>01/22/2020</td>\n",
       "      <td>Beijing</td>\n",
       "      <td>Mainland China</td>\n",
       "      <td>1/22/2020 17:00</td>\n",
       "      <td>14.0</td>\n",
       "      <td>0.0</td>\n",
       "      <td>0.0</td>\n",
       "    </tr>\n",
       "    <tr>\n",
       "      <th>2</th>\n",
       "      <td>3</td>\n",
       "      <td>01/22/2020</td>\n",
       "      <td>Chongqing</td>\n",
       "      <td>Mainland China</td>\n",
       "      <td>1/22/2020 17:00</td>\n",
       "      <td>6.0</td>\n",
       "      <td>0.0</td>\n",
       "      <td>0.0</td>\n",
       "    </tr>\n",
       "    <tr>\n",
       "      <th>3</th>\n",
       "      <td>4</td>\n",
       "      <td>01/22/2020</td>\n",
       "      <td>Fujian</td>\n",
       "      <td>Mainland China</td>\n",
       "      <td>1/22/2020 17:00</td>\n",
       "      <td>1.0</td>\n",
       "      <td>0.0</td>\n",
       "      <td>0.0</td>\n",
       "    </tr>\n",
       "    <tr>\n",
       "      <th>4</th>\n",
       "      <td>5</td>\n",
       "      <td>01/22/2020</td>\n",
       "      <td>Gansu</td>\n",
       "      <td>Mainland China</td>\n",
       "      <td>1/22/2020 17:00</td>\n",
       "      <td>0.0</td>\n",
       "      <td>0.0</td>\n",
       "      <td>0.0</td>\n",
       "    </tr>\n",
       "  </tbody>\n",
       "</table>\n",
       "</div>"
      ],
      "text/plain": [
       "   SNo ObservationDate Province/State  Country/Region      Last Update  \\\n",
       "0    1      01/22/2020          Anhui  Mainland China  1/22/2020 17:00   \n",
       "1    2      01/22/2020        Beijing  Mainland China  1/22/2020 17:00   \n",
       "2    3      01/22/2020      Chongqing  Mainland China  1/22/2020 17:00   \n",
       "3    4      01/22/2020         Fujian  Mainland China  1/22/2020 17:00   \n",
       "4    5      01/22/2020          Gansu  Mainland China  1/22/2020 17:00   \n",
       "\n",
       "   Confirmed  Deaths  Recovered  \n",
       "0        1.0     0.0        0.0  \n",
       "1       14.0     0.0        0.0  \n",
       "2        6.0     0.0        0.0  \n",
       "3        1.0     0.0        0.0  \n",
       "4        0.0     0.0        0.0  "
      ]
     },
     "execution_count": 174,
     "metadata": {},
     "output_type": "execute_result"
    }
   ],
   "source": [
    "df.head() # showing top 5 items by default"
   ]
  },
  {
   "cell_type": "code",
   "execution_count": 175,
   "id": "3e9dd064",
   "metadata": {},
   "outputs": [],
   "source": [
    "df.drop(['SNo','Last Update'],axis=1,inplace=True)"
   ]
  },
  {
   "cell_type": "code",
   "execution_count": 176,
   "id": "4d6e59d2",
   "metadata": {},
   "outputs": [
    {
     "data": {
      "text/html": [
       "<div>\n",
       "<style scoped>\n",
       "    .dataframe tbody tr th:only-of-type {\n",
       "        vertical-align: middle;\n",
       "    }\n",
       "\n",
       "    .dataframe tbody tr th {\n",
       "        vertical-align: top;\n",
       "    }\n",
       "\n",
       "    .dataframe thead th {\n",
       "        text-align: right;\n",
       "    }\n",
       "</style>\n",
       "<table border=\"1\" class=\"dataframe\">\n",
       "  <thead>\n",
       "    <tr style=\"text-align: right;\">\n",
       "      <th></th>\n",
       "      <th>ObservationDate</th>\n",
       "      <th>Province/State</th>\n",
       "      <th>Country/Region</th>\n",
       "      <th>Confirmed</th>\n",
       "      <th>Deaths</th>\n",
       "      <th>Recovered</th>\n",
       "    </tr>\n",
       "  </thead>\n",
       "  <tbody>\n",
       "    <tr>\n",
       "      <th>0</th>\n",
       "      <td>01/22/2020</td>\n",
       "      <td>Anhui</td>\n",
       "      <td>Mainland China</td>\n",
       "      <td>1.0</td>\n",
       "      <td>0.0</td>\n",
       "      <td>0.0</td>\n",
       "    </tr>\n",
       "    <tr>\n",
       "      <th>1</th>\n",
       "      <td>01/22/2020</td>\n",
       "      <td>Beijing</td>\n",
       "      <td>Mainland China</td>\n",
       "      <td>14.0</td>\n",
       "      <td>0.0</td>\n",
       "      <td>0.0</td>\n",
       "    </tr>\n",
       "    <tr>\n",
       "      <th>2</th>\n",
       "      <td>01/22/2020</td>\n",
       "      <td>Chongqing</td>\n",
       "      <td>Mainland China</td>\n",
       "      <td>6.0</td>\n",
       "      <td>0.0</td>\n",
       "      <td>0.0</td>\n",
       "    </tr>\n",
       "    <tr>\n",
       "      <th>3</th>\n",
       "      <td>01/22/2020</td>\n",
       "      <td>Fujian</td>\n",
       "      <td>Mainland China</td>\n",
       "      <td>1.0</td>\n",
       "      <td>0.0</td>\n",
       "      <td>0.0</td>\n",
       "    </tr>\n",
       "    <tr>\n",
       "      <th>4</th>\n",
       "      <td>01/22/2020</td>\n",
       "      <td>Gansu</td>\n",
       "      <td>Mainland China</td>\n",
       "      <td>0.0</td>\n",
       "      <td>0.0</td>\n",
       "      <td>0.0</td>\n",
       "    </tr>\n",
       "  </tbody>\n",
       "</table>\n",
       "</div>"
      ],
      "text/plain": [
       "  ObservationDate Province/State  Country/Region  Confirmed  Deaths  Recovered\n",
       "0      01/22/2020          Anhui  Mainland China        1.0     0.0        0.0\n",
       "1      01/22/2020        Beijing  Mainland China       14.0     0.0        0.0\n",
       "2      01/22/2020      Chongqing  Mainland China        6.0     0.0        0.0\n",
       "3      01/22/2020         Fujian  Mainland China        1.0     0.0        0.0\n",
       "4      01/22/2020          Gansu  Mainland China        0.0     0.0        0.0"
      ]
     },
     "execution_count": 176,
     "metadata": {},
     "output_type": "execute_result"
    }
   ],
   "source": [
    "df.head()"
   ]
  },
  {
   "cell_type": "code",
   "execution_count": 178,
   "id": "3111262b",
   "metadata": {},
   "outputs": [],
   "source": [
    "df.rename(columns={'ObservationDate':'Date','Province/State':'Province'},inplace=True)"
   ]
  },
  {
   "cell_type": "code",
   "execution_count": 179,
   "id": "1bc5df3b",
   "metadata": {},
   "outputs": [
    {
     "data": {
      "text/html": [
       "<div>\n",
       "<style scoped>\n",
       "    .dataframe tbody tr th:only-of-type {\n",
       "        vertical-align: middle;\n",
       "    }\n",
       "\n",
       "    .dataframe tbody tr th {\n",
       "        vertical-align: top;\n",
       "    }\n",
       "\n",
       "    .dataframe thead th {\n",
       "        text-align: right;\n",
       "    }\n",
       "</style>\n",
       "<table border=\"1\" class=\"dataframe\">\n",
       "  <thead>\n",
       "    <tr style=\"text-align: right;\">\n",
       "      <th></th>\n",
       "      <th>Date</th>\n",
       "      <th>Province</th>\n",
       "      <th>Country/Region</th>\n",
       "      <th>Confirmed</th>\n",
       "      <th>Deaths</th>\n",
       "      <th>Recovered</th>\n",
       "    </tr>\n",
       "  </thead>\n",
       "  <tbody>\n",
       "    <tr>\n",
       "      <th>0</th>\n",
       "      <td>01/22/2020</td>\n",
       "      <td>Anhui</td>\n",
       "      <td>Mainland China</td>\n",
       "      <td>1.0</td>\n",
       "      <td>0.0</td>\n",
       "      <td>0.0</td>\n",
       "    </tr>\n",
       "    <tr>\n",
       "      <th>1</th>\n",
       "      <td>01/22/2020</td>\n",
       "      <td>Beijing</td>\n",
       "      <td>Mainland China</td>\n",
       "      <td>14.0</td>\n",
       "      <td>0.0</td>\n",
       "      <td>0.0</td>\n",
       "    </tr>\n",
       "    <tr>\n",
       "      <th>2</th>\n",
       "      <td>01/22/2020</td>\n",
       "      <td>Chongqing</td>\n",
       "      <td>Mainland China</td>\n",
       "      <td>6.0</td>\n",
       "      <td>0.0</td>\n",
       "      <td>0.0</td>\n",
       "    </tr>\n",
       "    <tr>\n",
       "      <th>3</th>\n",
       "      <td>01/22/2020</td>\n",
       "      <td>Fujian</td>\n",
       "      <td>Mainland China</td>\n",
       "      <td>1.0</td>\n",
       "      <td>0.0</td>\n",
       "      <td>0.0</td>\n",
       "    </tr>\n",
       "    <tr>\n",
       "      <th>4</th>\n",
       "      <td>01/22/2020</td>\n",
       "      <td>Gansu</td>\n",
       "      <td>Mainland China</td>\n",
       "      <td>0.0</td>\n",
       "      <td>0.0</td>\n",
       "      <td>0.0</td>\n",
       "    </tr>\n",
       "  </tbody>\n",
       "</table>\n",
       "</div>"
      ],
      "text/plain": [
       "         Date   Province  Country/Region  Confirmed  Deaths  Recovered\n",
       "0  01/22/2020      Anhui  Mainland China        1.0     0.0        0.0\n",
       "1  01/22/2020    Beijing  Mainland China       14.0     0.0        0.0\n",
       "2  01/22/2020  Chongqing  Mainland China        6.0     0.0        0.0\n",
       "3  01/22/2020     Fujian  Mainland China        1.0     0.0        0.0\n",
       "4  01/22/2020      Gansu  Mainland China        0.0     0.0        0.0"
      ]
     },
     "execution_count": 179,
     "metadata": {},
     "output_type": "execute_result"
    }
   ],
   "source": [
    "df.head()"
   ]
  },
  {
   "cell_type": "code",
   "execution_count": 180,
   "id": "5bdec5a9",
   "metadata": {},
   "outputs": [],
   "source": [
    "df['Date'] = pd.to_datetime(df['Date'])"
   ]
  },
  {
   "cell_type": "code",
   "execution_count": 181,
   "id": "e6e572c5",
   "metadata": {},
   "outputs": [
    {
     "data": {
      "text/html": [
       "<div>\n",
       "<style scoped>\n",
       "    .dataframe tbody tr th:only-of-type {\n",
       "        vertical-align: middle;\n",
       "    }\n",
       "\n",
       "    .dataframe tbody tr th {\n",
       "        vertical-align: top;\n",
       "    }\n",
       "\n",
       "    .dataframe thead th {\n",
       "        text-align: right;\n",
       "    }\n",
       "</style>\n",
       "<table border=\"1\" class=\"dataframe\">\n",
       "  <thead>\n",
       "    <tr style=\"text-align: right;\">\n",
       "      <th></th>\n",
       "      <th>Date</th>\n",
       "      <th>Province</th>\n",
       "      <th>Country/Region</th>\n",
       "      <th>Confirmed</th>\n",
       "      <th>Deaths</th>\n",
       "      <th>Recovered</th>\n",
       "    </tr>\n",
       "  </thead>\n",
       "  <tbody>\n",
       "    <tr>\n",
       "      <th>0</th>\n",
       "      <td>2020-01-22</td>\n",
       "      <td>Anhui</td>\n",
       "      <td>Mainland China</td>\n",
       "      <td>1.0</td>\n",
       "      <td>0.0</td>\n",
       "      <td>0.0</td>\n",
       "    </tr>\n",
       "    <tr>\n",
       "      <th>1</th>\n",
       "      <td>2020-01-22</td>\n",
       "      <td>Beijing</td>\n",
       "      <td>Mainland China</td>\n",
       "      <td>14.0</td>\n",
       "      <td>0.0</td>\n",
       "      <td>0.0</td>\n",
       "    </tr>\n",
       "    <tr>\n",
       "      <th>2</th>\n",
       "      <td>2020-01-22</td>\n",
       "      <td>Chongqing</td>\n",
       "      <td>Mainland China</td>\n",
       "      <td>6.0</td>\n",
       "      <td>0.0</td>\n",
       "      <td>0.0</td>\n",
       "    </tr>\n",
       "    <tr>\n",
       "      <th>3</th>\n",
       "      <td>2020-01-22</td>\n",
       "      <td>Fujian</td>\n",
       "      <td>Mainland China</td>\n",
       "      <td>1.0</td>\n",
       "      <td>0.0</td>\n",
       "      <td>0.0</td>\n",
       "    </tr>\n",
       "    <tr>\n",
       "      <th>4</th>\n",
       "      <td>2020-01-22</td>\n",
       "      <td>Gansu</td>\n",
       "      <td>Mainland China</td>\n",
       "      <td>0.0</td>\n",
       "      <td>0.0</td>\n",
       "      <td>0.0</td>\n",
       "    </tr>\n",
       "  </tbody>\n",
       "</table>\n",
       "</div>"
      ],
      "text/plain": [
       "        Date   Province  Country/Region  Confirmed  Deaths  Recovered\n",
       "0 2020-01-22      Anhui  Mainland China        1.0     0.0        0.0\n",
       "1 2020-01-22    Beijing  Mainland China       14.0     0.0        0.0\n",
       "2 2020-01-22  Chongqing  Mainland China        6.0     0.0        0.0\n",
       "3 2020-01-22     Fujian  Mainland China        1.0     0.0        0.0\n",
       "4 2020-01-22      Gansu  Mainland China        0.0     0.0        0.0"
      ]
     },
     "execution_count": 181,
     "metadata": {},
     "output_type": "execute_result"
    }
   ],
   "source": [
    "df.head()"
   ]
  },
  {
   "cell_type": "code",
   "execution_count": 185,
   "id": "70c8d408",
   "metadata": {},
   "outputs": [
    {
     "data": {
      "text/html": [
       "<div>\n",
       "<style scoped>\n",
       "    .dataframe tbody tr th:only-of-type {\n",
       "        vertical-align: middle;\n",
       "    }\n",
       "\n",
       "    .dataframe tbody tr th {\n",
       "        vertical-align: top;\n",
       "    }\n",
       "\n",
       "    .dataframe thead th {\n",
       "        text-align: right;\n",
       "    }\n",
       "</style>\n",
       "<table border=\"1\" class=\"dataframe\">\n",
       "  <thead>\n",
       "    <tr style=\"text-align: right;\">\n",
       "      <th></th>\n",
       "      <th>Confirmed</th>\n",
       "      <th>Deaths</th>\n",
       "      <th>Recovered</th>\n",
       "    </tr>\n",
       "  </thead>\n",
       "  <tbody>\n",
       "    <tr>\n",
       "      <th>count</th>\n",
       "      <td>3.064290e+05</td>\n",
       "      <td>306429.000000</td>\n",
       "      <td>3.064290e+05</td>\n",
       "    </tr>\n",
       "    <tr>\n",
       "      <th>mean</th>\n",
       "      <td>8.567091e+04</td>\n",
       "      <td>2036.403268</td>\n",
       "      <td>5.042029e+04</td>\n",
       "    </tr>\n",
       "    <tr>\n",
       "      <th>std</th>\n",
       "      <td>2.775516e+05</td>\n",
       "      <td>6410.938048</td>\n",
       "      <td>2.015124e+05</td>\n",
       "    </tr>\n",
       "    <tr>\n",
       "      <th>min</th>\n",
       "      <td>-3.028440e+05</td>\n",
       "      <td>-178.000000</td>\n",
       "      <td>-8.544050e+05</td>\n",
       "    </tr>\n",
       "    <tr>\n",
       "      <th>25%</th>\n",
       "      <td>1.042000e+03</td>\n",
       "      <td>13.000000</td>\n",
       "      <td>1.100000e+01</td>\n",
       "    </tr>\n",
       "    <tr>\n",
       "      <th>50%</th>\n",
       "      <td>1.037500e+04</td>\n",
       "      <td>192.000000</td>\n",
       "      <td>1.751000e+03</td>\n",
       "    </tr>\n",
       "    <tr>\n",
       "      <th>75%</th>\n",
       "      <td>5.075200e+04</td>\n",
       "      <td>1322.000000</td>\n",
       "      <td>2.027000e+04</td>\n",
       "    </tr>\n",
       "    <tr>\n",
       "      <th>max</th>\n",
       "      <td>5.863138e+06</td>\n",
       "      <td>112385.000000</td>\n",
       "      <td>6.399531e+06</td>\n",
       "    </tr>\n",
       "  </tbody>\n",
       "</table>\n",
       "</div>"
      ],
      "text/plain": [
       "          Confirmed         Deaths     Recovered\n",
       "count  3.064290e+05  306429.000000  3.064290e+05\n",
       "mean   8.567091e+04    2036.403268  5.042029e+04\n",
       "std    2.775516e+05    6410.938048  2.015124e+05\n",
       "min   -3.028440e+05    -178.000000 -8.544050e+05\n",
       "25%    1.042000e+03      13.000000  1.100000e+01\n",
       "50%    1.037500e+04     192.000000  1.751000e+03\n",
       "75%    5.075200e+04    1322.000000  2.027000e+04\n",
       "max    5.863138e+06  112385.000000  6.399531e+06"
      ]
     },
     "execution_count": 185,
     "metadata": {},
     "output_type": "execute_result"
    }
   ],
   "source": [
    "df.describe()"
   ]
  },
  {
   "cell_type": "code",
   "execution_count": 186,
   "id": "0ba8b554",
   "metadata": {},
   "outputs": [
    {
     "name": "stdout",
     "output_type": "stream",
     "text": [
      "<class 'pandas.core.frame.DataFrame'>\n",
      "RangeIndex: 306429 entries, 0 to 306428\n",
      "Data columns (total 6 columns):\n",
      " #   Column          Non-Null Count   Dtype         \n",
      "---  ------          --------------   -----         \n",
      " 0   Date            306429 non-null  datetime64[ns]\n",
      " 1   Province        228329 non-null  object        \n",
      " 2   Country/Region  306429 non-null  object        \n",
      " 3   Confirmed       306429 non-null  float64       \n",
      " 4   Deaths          306429 non-null  float64       \n",
      " 5   Recovered       306429 non-null  float64       \n",
      "dtypes: datetime64[ns](1), float64(3), object(2)\n",
      "memory usage: 14.0+ MB\n"
     ]
    }
   ],
   "source": [
    "df.info()"
   ]
  },
  {
   "cell_type": "code",
   "execution_count": 189,
   "id": "25d0552b",
   "metadata": {},
   "outputs": [],
   "source": [
    "df = df.fillna('NA')"
   ]
  },
  {
   "cell_type": "code",
   "execution_count": 190,
   "id": "62747ce4",
   "metadata": {},
   "outputs": [
    {
     "name": "stdout",
     "output_type": "stream",
     "text": [
      "<class 'pandas.core.frame.DataFrame'>\n",
      "RangeIndex: 306429 entries, 0 to 306428\n",
      "Data columns (total 6 columns):\n",
      " #   Column          Non-Null Count   Dtype         \n",
      "---  ------          --------------   -----         \n",
      " 0   Date            306429 non-null  datetime64[ns]\n",
      " 1   Province        306429 non-null  object        \n",
      " 2   Country/Region  306429 non-null  object        \n",
      " 3   Confirmed       306429 non-null  float64       \n",
      " 4   Deaths          306429 non-null  float64       \n",
      " 5   Recovered       306429 non-null  float64       \n",
      "dtypes: datetime64[ns](1), float64(3), object(2)\n",
      "memory usage: 14.0+ MB\n"
     ]
    }
   ],
   "source": [
    "df.info()"
   ]
  },
  {
   "cell_type": "code",
   "execution_count": null,
   "id": "5b2bb6f0",
   "metadata": {},
   "outputs": [],
   "source": []
  }
 ],
 "metadata": {
  "kernelspec": {
   "display_name": "Python 3",
   "language": "python",
   "name": "python3"
  },
  "language_info": {
   "codemirror_mode": {
    "name": "ipython",
    "version": 3
   },
   "file_extension": ".py",
   "mimetype": "text/x-python",
   "name": "python",
   "nbconvert_exporter": "python",
   "pygments_lexer": "ipython3",
   "version": "3.8.8"
  }
 },
 "nbformat": 4,
 "nbformat_minor": 5
}
